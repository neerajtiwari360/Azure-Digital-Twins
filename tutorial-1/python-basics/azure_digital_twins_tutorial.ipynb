{
 "cells": [
  {
   "attachments": {},
   "cell_type": "markdown",
   "metadata": {},
   "source": [
    "# Azure Digital Twins with Python: A Basic Tutorial\n",
    "\n",
    "In the recent days, I have been trying to learn about digital twins and how to use them. Hence, I am making this short tutorial as a future reference to myself and perhaps also to others who might be trying to do the same. Of course, being able to create and manipulate them programmatically is part of that endeavor. More specifically, how to work with Azure Digital Twins using Python.\n",
    "\n",
    "Lets begin by first, defining what a digital twin is. While there are many definitions, I like the one from IBM :\n",
    "\n",
    "_A virtual model designed to accurately reflect a physical object._"
   ]
  },
  {
   "attachments": {},
   "cell_type": "markdown",
   "metadata": {},
   "source": [
    "## Creating the Virtual Environment"
   ]
  },
  {
   "attachments": {},
   "cell_type": "markdown",
   "metadata": {},
   "source": [
    "```sh\n",
    "azure-common==1.1.28\n",
    "azure-core==1.26.2\n",
    "azure-digitaltwins-core==1.2.0\n",
    "azure-identity==1.12.0\n",
    "azure-mgmt-authorization==3.0.0\n",
    "azure-mgmt-core==1.3.2\n",
    "azure-mgmt-digitaltwins==6.4.0\n",
    "azure-mgmt-resource==22.0.0\n",
    "```\n",
    "\n",
    "The version of the modules that I am working with in this tutorial are included above."
   ]
  },
  {
   "attachments": {},
   "cell_type": "markdown",
   "metadata": {},
   "source": [
    "## Create the resource group\n",
    "\n",
    "To do anything in Azure, we first need to create a resource group. So lets create one called 'Tutorial-RG'."
   ]
  },
  {
   "cell_type": "code",
   "execution_count": 3,
   "metadata": {},
   "outputs": [
    {
     "name": "stdout",
     "output_type": "stream",
     "text": [
      "Collecting azure-common==1.1.28\n",
      "  Using cached azure_common-1.1.28-py2.py3-none-any.whl (14 kB)\n",
      "Installing collected packages: azure-common\n",
      "Successfully installed azure-common-1.1.28\n",
      "Collecting azure-core==1.26.2\n",
      "  Using cached azure_core-1.26.2-py3-none-any.whl (173 kB)\n",
      "Collecting requests>=2.18.4 (from azure-core==1.26.2)\n",
      "  Downloading requests-2.31.0-py3-none-any.whl.metadata (4.6 kB)\n",
      "Requirement already satisfied: six>=1.11.0 in c:\\users\\neera\\downloads\\azure-digital-twins\\.venv\\lib\\site-packages (from azure-core==1.26.2) (1.16.0)\n",
      "Collecting typing-extensions>=4.0.1 (from azure-core==1.26.2)\n",
      "  Downloading typing_extensions-4.8.0-py3-none-any.whl.metadata (3.0 kB)\n",
      "Collecting charset-normalizer<4,>=2 (from requests>=2.18.4->azure-core==1.26.2)\n",
      "  Downloading charset_normalizer-3.3.2-cp312-cp312-win_amd64.whl.metadata (34 kB)\n",
      "Collecting idna<4,>=2.5 (from requests>=2.18.4->azure-core==1.26.2)\n",
      "  Using cached idna-3.4-py3-none-any.whl (61 kB)\n",
      "Collecting urllib3<3,>=1.21.1 (from requests>=2.18.4->azure-core==1.26.2)\n",
      "  Downloading urllib3-2.0.7-py3-none-any.whl.metadata (6.6 kB)\n",
      "Collecting certifi>=2017.4.17 (from requests>=2.18.4->azure-core==1.26.2)\n",
      "  Downloading certifi-2023.7.22-py3-none-any.whl.metadata (2.2 kB)\n",
      "Downloading requests-2.31.0-py3-none-any.whl (62 kB)\n",
      "   ---------------------------------------- 0.0/62.6 kB ? eta -:--:--\n",
      "   ---------------------------------------  61.4/62.6 kB 1.6 MB/s eta 0:00:01\n",
      "   ---------------------------------------- 62.6/62.6 kB 662.5 kB/s eta 0:00:00\n",
      "Downloading typing_extensions-4.8.0-py3-none-any.whl (31 kB)\n",
      "Downloading certifi-2023.7.22-py3-none-any.whl (158 kB)\n",
      "   ---------------------------------------- 0.0/158.3 kB ? eta -:--:--\n",
      "   ---------------------------- ----------- 112.6/158.3 kB 3.3 MB/s eta 0:00:01\n",
      "   -------------------------------------- - 153.6/158.3 kB 2.3 MB/s eta 0:00:01\n",
      "   ---------------------------------------- 158.3/158.3 kB 1.4 MB/s eta 0:00:00\n",
      "Downloading charset_normalizer-3.3.2-cp312-cp312-win_amd64.whl (100 kB)\n",
      "   ---------------------------------------- 0.0/100.4 kB ? eta -:--:--\n",
      "   ---------------------------------------- 100.4/100.4 kB 5.6 MB/s eta 0:00:00\n",
      "Downloading urllib3-2.0.7-py3-none-any.whl (124 kB)\n",
      "   ---------------------------------------- 0.0/124.2 kB ? eta -:--:--\n",
      "   -------------------------- ------------- 81.9/124.2 kB 2.2 MB/s eta 0:00:01\n",
      "   ---------------------------------------  122.9/124.2 kB 2.4 MB/s eta 0:00:01\n",
      "   ---------------------------------------- 124.2/124.2 kB 1.2 MB/s eta 0:00:00\n",
      "Installing collected packages: urllib3, typing-extensions, idna, charset-normalizer, certifi, requests, azure-core\n",
      "Successfully installed azure-core-1.26.2 certifi-2023.7.22 charset-normalizer-3.3.2 idna-3.4 requests-2.31.0 typing-extensions-4.8.0 urllib3-2.0.7\n",
      "Collecting azure-digitaltwins-core==1.2.0\n",
      "  Using cached azure_digitaltwins_core-1.2.0-py3-none-any.whl (69 kB)\n",
      "Requirement already satisfied: azure-core<2.0.0,>=1.20.0 in c:\\users\\neera\\downloads\\azure-digital-twins\\.venv\\lib\\site-packages (from azure-digitaltwins-core==1.2.0) (1.26.2)\n",
      "Collecting msrest>=0.6.21 (from azure-digitaltwins-core==1.2.0)\n",
      "  Using cached msrest-0.7.1-py3-none-any.whl (85 kB)\n",
      "Requirement already satisfied: requests>=2.18.4 in c:\\users\\neera\\downloads\\azure-digital-twins\\.venv\\lib\\site-packages (from azure-core<2.0.0,>=1.20.0->azure-digitaltwins-core==1.2.0) (2.31.0)\n",
      "Requirement already satisfied: six>=1.11.0 in c:\\users\\neera\\downloads\\azure-digital-twins\\.venv\\lib\\site-packages (from azure-core<2.0.0,>=1.20.0->azure-digitaltwins-core==1.2.0) (1.16.0)\n",
      "Requirement already satisfied: typing-extensions>=4.0.1 in c:\\users\\neera\\downloads\\azure-digital-twins\\.venv\\lib\\site-packages (from azure-core<2.0.0,>=1.20.0->azure-digitaltwins-core==1.2.0) (4.8.0)\n",
      "Requirement already satisfied: certifi>=2017.4.17 in c:\\users\\neera\\downloads\\azure-digital-twins\\.venv\\lib\\site-packages (from msrest>=0.6.21->azure-digitaltwins-core==1.2.0) (2023.7.22)\n",
      "Collecting isodate>=0.6.0 (from msrest>=0.6.21->azure-digitaltwins-core==1.2.0)\n",
      "  Using cached isodate-0.6.1-py2.py3-none-any.whl (41 kB)\n",
      "Collecting requests-oauthlib>=0.5.0 (from msrest>=0.6.21->azure-digitaltwins-core==1.2.0)\n",
      "  Using cached requests_oauthlib-1.3.1-py2.py3-none-any.whl (23 kB)\n",
      "Requirement already satisfied: charset-normalizer<4,>=2 in c:\\users\\neera\\downloads\\azure-digital-twins\\.venv\\lib\\site-packages (from requests>=2.18.4->azure-core<2.0.0,>=1.20.0->azure-digitaltwins-core==1.2.0) (3.3.2)\n",
      "Requirement already satisfied: idna<4,>=2.5 in c:\\users\\neera\\downloads\\azure-digital-twins\\.venv\\lib\\site-packages (from requests>=2.18.4->azure-core<2.0.0,>=1.20.0->azure-digitaltwins-core==1.2.0) (3.4)\n",
      "Requirement already satisfied: urllib3<3,>=1.21.1 in c:\\users\\neera\\downloads\\azure-digital-twins\\.venv\\lib\\site-packages (from requests>=2.18.4->azure-core<2.0.0,>=1.20.0->azure-digitaltwins-core==1.2.0) (2.0.7)\n",
      "Collecting oauthlib>=3.0.0 (from requests-oauthlib>=0.5.0->msrest>=0.6.21->azure-digitaltwins-core==1.2.0)\n",
      "  Using cached oauthlib-3.2.2-py3-none-any.whl (151 kB)\n",
      "Installing collected packages: oauthlib, isodate, requests-oauthlib, msrest, azure-digitaltwins-core\n",
      "Successfully installed azure-digitaltwins-core-1.2.0 isodate-0.6.1 msrest-0.7.1 oauthlib-3.2.2 requests-oauthlib-1.3.1\n",
      "Collecting azure-identity==1.12.0\n",
      "  Using cached azure_identity-1.12.0-py3-none-any.whl (135 kB)\n",
      "Requirement already satisfied: azure-core<2.0.0,>=1.11.0 in c:\\users\\neera\\downloads\\azure-digital-twins\\.venv\\lib\\site-packages (from azure-identity==1.12.0) (1.26.2)\n",
      "Collecting cryptography>=2.5 (from azure-identity==1.12.0)\n",
      "  Downloading cryptography-41.0.5-cp37-abi3-win_amd64.whl.metadata (5.3 kB)\n",
      "Collecting msal<2.0.0,>=1.12.0 (from azure-identity==1.12.0)\n",
      "  Downloading msal-1.24.1-py2.py3-none-any.whl.metadata (11 kB)\n",
      "Collecting msal-extensions<2.0.0,>=0.3.0 (from azure-identity==1.12.0)\n",
      "  Using cached msal_extensions-1.0.0-py2.py3-none-any.whl (19 kB)\n",
      "Requirement already satisfied: six>=1.12.0 in c:\\users\\neera\\downloads\\azure-digital-twins\\.venv\\lib\\site-packages (from azure-identity==1.12.0) (1.16.0)\n",
      "Requirement already satisfied: requests>=2.18.4 in c:\\users\\neera\\downloads\\azure-digital-twins\\.venv\\lib\\site-packages (from azure-core<2.0.0,>=1.11.0->azure-identity==1.12.0) (2.31.0)\n",
      "Requirement already satisfied: typing-extensions>=4.0.1 in c:\\users\\neera\\downloads\\azure-digital-twins\\.venv\\lib\\site-packages (from azure-core<2.0.0,>=1.11.0->azure-identity==1.12.0) (4.8.0)\n",
      "Collecting cffi>=1.12 (from cryptography>=2.5->azure-identity==1.12.0)\n",
      "  Downloading cffi-1.16.0-cp312-cp312-win_amd64.whl.metadata (1.5 kB)\n",
      "Collecting PyJWT<3,>=1.0.0 (from PyJWT[crypto]<3,>=1.0.0->msal<2.0.0,>=1.12.0->azure-identity==1.12.0)\n",
      "  Downloading PyJWT-2.8.0-py3-none-any.whl.metadata (4.2 kB)\n",
      "Collecting portalocker<3,>=1.6 (from msal-extensions<2.0.0,>=0.3.0->azure-identity==1.12.0)\n",
      "  Downloading portalocker-2.8.2-py3-none-any.whl.metadata (8.5 kB)\n",
      "Collecting pycparser (from cffi>=1.12->cryptography>=2.5->azure-identity==1.12.0)\n",
      "  Using cached pycparser-2.21-py2.py3-none-any.whl (118 kB)\n",
      "Requirement already satisfied: pywin32>=226 in c:\\users\\neera\\downloads\\azure-digital-twins\\.venv\\lib\\site-packages (from portalocker<3,>=1.6->msal-extensions<2.0.0,>=0.3.0->azure-identity==1.12.0) (306)\n",
      "Requirement already satisfied: charset-normalizer<4,>=2 in c:\\users\\neera\\downloads\\azure-digital-twins\\.venv\\lib\\site-packages (from requests>=2.18.4->azure-core<2.0.0,>=1.11.0->azure-identity==1.12.0) (3.3.2)\n",
      "Requirement already satisfied: idna<4,>=2.5 in c:\\users\\neera\\downloads\\azure-digital-twins\\.venv\\lib\\site-packages (from requests>=2.18.4->azure-core<2.0.0,>=1.11.0->azure-identity==1.12.0) (3.4)\n",
      "Requirement already satisfied: urllib3<3,>=1.21.1 in c:\\users\\neera\\downloads\\azure-digital-twins\\.venv\\lib\\site-packages (from requests>=2.18.4->azure-core<2.0.0,>=1.11.0->azure-identity==1.12.0) (2.0.7)\n",
      "Requirement already satisfied: certifi>=2017.4.17 in c:\\users\\neera\\downloads\\azure-digital-twins\\.venv\\lib\\site-packages (from requests>=2.18.4->azure-core<2.0.0,>=1.11.0->azure-identity==1.12.0) (2023.7.22)\n",
      "Downloading cryptography-41.0.5-cp37-abi3-win_amd64.whl (2.7 MB)\n",
      "   ---------------------------------------- 0.0/2.7 MB ? eta -:--:--\n",
      "   ---------------------------------------- 0.0/2.7 MB ? eta -:--:--\n",
      "   - -------------------------------------- 0.1/2.7 MB 1.3 MB/s eta 0:00:02\n",
      "   ---- ----------------------------------- 0.3/2.7 MB 2.1 MB/s eta 0:00:02\n",
      "   -------- ------------------------------- 0.6/2.7 MB 3.2 MB/s eta 0:00:01\n",
      "   ----------- ---------------------------- 0.8/2.7 MB 3.6 MB/s eta 0:00:01\n",
      "   -------------- ------------------------- 1.0/2.7 MB 3.6 MB/s eta 0:00:01\n",
      "   -------------------- ------------------- 1.4/2.7 MB 4.4 MB/s eta 0:00:01\n",
      "   ------------------------ --------------- 1.6/2.7 MB 4.5 MB/s eta 0:00:01\n",
      "   ------------------------------ --------- 2.0/2.7 MB 5.0 MB/s eta 0:00:01\n",
      "   ---------------------------------- ----- 2.3/2.7 MB 5.0 MB/s eta 0:00:01\n",
      "   ---------------------------------------  2.7/2.7 MB 5.5 MB/s eta 0:00:01\n",
      "   ---------------------------------------- 2.7/2.7 MB 5.2 MB/s eta 0:00:00\n",
      "Downloading msal-1.24.1-py2.py3-none-any.whl (95 kB)\n",
      "   ---------------------------------------- 0.0/96.0 kB ? eta -:--:--\n",
      "   ---------------------------------------- 96.0/96.0 kB 5.4 MB/s eta 0:00:00\n",
      "Downloading cffi-1.16.0-cp312-cp312-win_amd64.whl (181 kB)\n",
      "   ---------------------------------------- 0.0/182.0 kB ? eta -:--:--\n",
      "   -------------------------------------- - 174.1/182.0 kB 5.3 MB/s eta 0:00:01\n",
      "   ---------------------------------------- 182.0/182.0 kB 3.7 MB/s eta 0:00:00\n",
      "Downloading portalocker-2.8.2-py3-none-any.whl (17 kB)\n",
      "Downloading PyJWT-2.8.0-py3-none-any.whl (22 kB)\n",
      "Installing collected packages: PyJWT, pycparser, portalocker, cffi, cryptography, msal, msal-extensions, azure-identity\n",
      "Successfully installed PyJWT-2.8.0 azure-identity-1.12.0 cffi-1.16.0 cryptography-41.0.5 msal-1.24.1 msal-extensions-1.0.0 portalocker-2.8.2 pycparser-2.21\n",
      "Collecting azure-mgmt-authorization==3.0.0\n",
      "  Using cached azure_mgmt_authorization-3.0.0-py3-none-any.whl (965 kB)\n",
      "Requirement already satisfied: msrest>=0.7.1 in c:\\users\\neera\\downloads\\azure-digital-twins\\.venv\\lib\\site-packages (from azure-mgmt-authorization==3.0.0) (0.7.1)\n",
      "Requirement already satisfied: azure-common~=1.1 in c:\\users\\neera\\downloads\\azure-digital-twins\\.venv\\lib\\site-packages (from azure-mgmt-authorization==3.0.0) (1.1.28)\n",
      "Collecting azure-mgmt-core<2.0.0,>=1.3.2 (from azure-mgmt-authorization==3.0.0)\n",
      "  Downloading azure_mgmt_core-1.4.0-py3-none-any.whl (27 kB)\n",
      "Requirement already satisfied: azure-core<2.0.0,>=1.26.2 in c:\\users\\neera\\downloads\\azure-digital-twins\\.venv\\lib\\site-packages (from azure-mgmt-core<2.0.0,>=1.3.2->azure-mgmt-authorization==3.0.0) (1.26.2)\n",
      "Requirement already satisfied: certifi>=2017.4.17 in c:\\users\\neera\\downloads\\azure-digital-twins\\.venv\\lib\\site-packages (from msrest>=0.7.1->azure-mgmt-authorization==3.0.0) (2023.7.22)\n",
      "Requirement already satisfied: isodate>=0.6.0 in c:\\users\\neera\\downloads\\azure-digital-twins\\.venv\\lib\\site-packages (from msrest>=0.7.1->azure-mgmt-authorization==3.0.0) (0.6.1)\n",
      "Requirement already satisfied: requests-oauthlib>=0.5.0 in c:\\users\\neera\\downloads\\azure-digital-twins\\.venv\\lib\\site-packages (from msrest>=0.7.1->azure-mgmt-authorization==3.0.0) (1.3.1)\n",
      "Requirement already satisfied: requests~=2.16 in c:\\users\\neera\\downloads\\azure-digital-twins\\.venv\\lib\\site-packages (from msrest>=0.7.1->azure-mgmt-authorization==3.0.0) (2.31.0)\n",
      "Requirement already satisfied: six>=1.11.0 in c:\\users\\neera\\downloads\\azure-digital-twins\\.venv\\lib\\site-packages (from azure-core<2.0.0,>=1.26.2->azure-mgmt-core<2.0.0,>=1.3.2->azure-mgmt-authorization==3.0.0) (1.16.0)\n",
      "Requirement already satisfied: typing-extensions>=4.0.1 in c:\\users\\neera\\downloads\\azure-digital-twins\\.venv\\lib\\site-packages (from azure-core<2.0.0,>=1.26.2->azure-mgmt-core<2.0.0,>=1.3.2->azure-mgmt-authorization==3.0.0) (4.8.0)\n",
      "Requirement already satisfied: charset-normalizer<4,>=2 in c:\\users\\neera\\downloads\\azure-digital-twins\\.venv\\lib\\site-packages (from requests~=2.16->msrest>=0.7.1->azure-mgmt-authorization==3.0.0) (3.3.2)\n",
      "Requirement already satisfied: idna<4,>=2.5 in c:\\users\\neera\\downloads\\azure-digital-twins\\.venv\\lib\\site-packages (from requests~=2.16->msrest>=0.7.1->azure-mgmt-authorization==3.0.0) (3.4)\n",
      "Requirement already satisfied: urllib3<3,>=1.21.1 in c:\\users\\neera\\downloads\\azure-digital-twins\\.venv\\lib\\site-packages (from requests~=2.16->msrest>=0.7.1->azure-mgmt-authorization==3.0.0) (2.0.7)\n",
      "Requirement already satisfied: oauthlib>=3.0.0 in c:\\users\\neera\\downloads\\azure-digital-twins\\.venv\\lib\\site-packages (from requests-oauthlib>=0.5.0->msrest>=0.7.1->azure-mgmt-authorization==3.0.0) (3.2.2)\n",
      "Installing collected packages: azure-mgmt-core, azure-mgmt-authorization\n",
      "Successfully installed azure-mgmt-authorization-3.0.0 azure-mgmt-core-1.4.0\n",
      "Collecting azure-mgmt-core==1.3.2\n",
      "  Using cached azure_mgmt_core-1.3.2-py3-none-any.whl (26 kB)\n",
      "Requirement already satisfied: azure-core<2.0.0,>=1.24.0 in c:\\users\\neera\\downloads\\azure-digital-twins\\.venv\\lib\\site-packages (from azure-mgmt-core==1.3.2) (1.26.2)\n",
      "Requirement already satisfied: requests>=2.18.4 in c:\\users\\neera\\downloads\\azure-digital-twins\\.venv\\lib\\site-packages (from azure-core<2.0.0,>=1.24.0->azure-mgmt-core==1.3.2) (2.31.0)\n",
      "Requirement already satisfied: six>=1.11.0 in c:\\users\\neera\\downloads\\azure-digital-twins\\.venv\\lib\\site-packages (from azure-core<2.0.0,>=1.24.0->azure-mgmt-core==1.3.2) (1.16.0)\n",
      "Requirement already satisfied: typing-extensions>=4.0.1 in c:\\users\\neera\\downloads\\azure-digital-twins\\.venv\\lib\\site-packages (from azure-core<2.0.0,>=1.24.0->azure-mgmt-core==1.3.2) (4.8.0)\n",
      "Requirement already satisfied: charset-normalizer<4,>=2 in c:\\users\\neera\\downloads\\azure-digital-twins\\.venv\\lib\\site-packages (from requests>=2.18.4->azure-core<2.0.0,>=1.24.0->azure-mgmt-core==1.3.2) (3.3.2)\n",
      "Requirement already satisfied: idna<4,>=2.5 in c:\\users\\neera\\downloads\\azure-digital-twins\\.venv\\lib\\site-packages (from requests>=2.18.4->azure-core<2.0.0,>=1.24.0->azure-mgmt-core==1.3.2) (3.4)\n",
      "Requirement already satisfied: urllib3<3,>=1.21.1 in c:\\users\\neera\\downloads\\azure-digital-twins\\.venv\\lib\\site-packages (from requests>=2.18.4->azure-core<2.0.0,>=1.24.0->azure-mgmt-core==1.3.2) (2.0.7)\n",
      "Requirement already satisfied: certifi>=2017.4.17 in c:\\users\\neera\\downloads\\azure-digital-twins\\.venv\\lib\\site-packages (from requests>=2.18.4->azure-core<2.0.0,>=1.24.0->azure-mgmt-core==1.3.2) (2023.7.22)\n",
      "Installing collected packages: azure-mgmt-core\n",
      "  Attempting uninstall: azure-mgmt-core\n",
      "    Found existing installation: azure-mgmt-core 1.4.0\n",
      "    Uninstalling azure-mgmt-core-1.4.0:\n",
      "      Successfully uninstalled azure-mgmt-core-1.4.0\n",
      "Successfully installed azure-mgmt-core-1.3.2\n",
      "Collecting azure-mgmt-digitaltwins==6.4.0\n",
      "  Using cached azure_mgmt_digitaltwins-6.4.0-py3-none-any.whl (451 kB)\n",
      "Requirement already satisfied: msrest>=0.7.1 in c:\\users\\neera\\downloads\\azure-digital-twins\\.venv\\lib\\site-packages (from azure-mgmt-digitaltwins==6.4.0) (0.7.1)\n",
      "Requirement already satisfied: azure-common~=1.1 in c:\\users\\neera\\downloads\\azure-digital-twins\\.venv\\lib\\site-packages (from azure-mgmt-digitaltwins==6.4.0) (1.1.28)\n",
      "Requirement already satisfied: azure-mgmt-core<2.0.0,>=1.3.2 in c:\\users\\neera\\downloads\\azure-digital-twins\\.venv\\lib\\site-packages (from azure-mgmt-digitaltwins==6.4.0) (1.3.2)\n",
      "Requirement already satisfied: azure-core<2.0.0,>=1.24.0 in c:\\users\\neera\\downloads\\azure-digital-twins\\.venv\\lib\\site-packages (from azure-mgmt-core<2.0.0,>=1.3.2->azure-mgmt-digitaltwins==6.4.0) (1.26.2)\n",
      "Requirement already satisfied: certifi>=2017.4.17 in c:\\users\\neera\\downloads\\azure-digital-twins\\.venv\\lib\\site-packages (from msrest>=0.7.1->azure-mgmt-digitaltwins==6.4.0) (2023.7.22)\n",
      "Requirement already satisfied: isodate>=0.6.0 in c:\\users\\neera\\downloads\\azure-digital-twins\\.venv\\lib\\site-packages (from msrest>=0.7.1->azure-mgmt-digitaltwins==6.4.0) (0.6.1)\n",
      "Requirement already satisfied: requests-oauthlib>=0.5.0 in c:\\users\\neera\\downloads\\azure-digital-twins\\.venv\\lib\\site-packages (from msrest>=0.7.1->azure-mgmt-digitaltwins==6.4.0) (1.3.1)\n",
      "Requirement already satisfied: requests~=2.16 in c:\\users\\neera\\downloads\\azure-digital-twins\\.venv\\lib\\site-packages (from msrest>=0.7.1->azure-mgmt-digitaltwins==6.4.0) (2.31.0)\n",
      "Requirement already satisfied: six>=1.11.0 in c:\\users\\neera\\downloads\\azure-digital-twins\\.venv\\lib\\site-packages (from azure-core<2.0.0,>=1.24.0->azure-mgmt-core<2.0.0,>=1.3.2->azure-mgmt-digitaltwins==6.4.0) (1.16.0)\n",
      "Requirement already satisfied: typing-extensions>=4.0.1 in c:\\users\\neera\\downloads\\azure-digital-twins\\.venv\\lib\\site-packages (from azure-core<2.0.0,>=1.24.0->azure-mgmt-core<2.0.0,>=1.3.2->azure-mgmt-digitaltwins==6.4.0) (4.8.0)\n",
      "Requirement already satisfied: charset-normalizer<4,>=2 in c:\\users\\neera\\downloads\\azure-digital-twins\\.venv\\lib\\site-packages (from requests~=2.16->msrest>=0.7.1->azure-mgmt-digitaltwins==6.4.0) (3.3.2)\n",
      "Requirement already satisfied: idna<4,>=2.5 in c:\\users\\neera\\downloads\\azure-digital-twins\\.venv\\lib\\site-packages (from requests~=2.16->msrest>=0.7.1->azure-mgmt-digitaltwins==6.4.0) (3.4)\n",
      "Requirement already satisfied: urllib3<3,>=1.21.1 in c:\\users\\neera\\downloads\\azure-digital-twins\\.venv\\lib\\site-packages (from requests~=2.16->msrest>=0.7.1->azure-mgmt-digitaltwins==6.4.0) (2.0.7)\n",
      "Requirement already satisfied: oauthlib>=3.0.0 in c:\\users\\neera\\downloads\\azure-digital-twins\\.venv\\lib\\site-packages (from requests-oauthlib>=0.5.0->msrest>=0.7.1->azure-mgmt-digitaltwins==6.4.0) (3.2.2)\n",
      "Installing collected packages: azure-mgmt-digitaltwins\n",
      "Successfully installed azure-mgmt-digitaltwins-6.4.0\n",
      "Collecting azure-mgmt-resource==22.0.0\n",
      "  Using cached azure_mgmt_resource-22.0.0-py3-none-any.whl (2.4 MB)\n",
      "Requirement already satisfied: msrest>=0.7.1 in c:\\users\\neera\\downloads\\azure-digital-twins\\.venv\\lib\\site-packages (from azure-mgmt-resource==22.0.0) (0.7.1)\n",
      "Requirement already satisfied: azure-common~=1.1 in c:\\users\\neera\\downloads\\azure-digital-twins\\.venv\\lib\\site-packages (from azure-mgmt-resource==22.0.0) (1.1.28)\n",
      "Requirement already satisfied: azure-mgmt-core<2.0.0,>=1.3.2 in c:\\users\\neera\\downloads\\azure-digital-twins\\.venv\\lib\\site-packages (from azure-mgmt-resource==22.0.0) (1.3.2)\n",
      "Requirement already satisfied: azure-core<2.0.0,>=1.24.0 in c:\\users\\neera\\downloads\\azure-digital-twins\\.venv\\lib\\site-packages (from azure-mgmt-core<2.0.0,>=1.3.2->azure-mgmt-resource==22.0.0) (1.26.2)\n",
      "Requirement already satisfied: certifi>=2017.4.17 in c:\\users\\neera\\downloads\\azure-digital-twins\\.venv\\lib\\site-packages (from msrest>=0.7.1->azure-mgmt-resource==22.0.0) (2023.7.22)\n",
      "Requirement already satisfied: isodate>=0.6.0 in c:\\users\\neera\\downloads\\azure-digital-twins\\.venv\\lib\\site-packages (from msrest>=0.7.1->azure-mgmt-resource==22.0.0) (0.6.1)\n",
      "Requirement already satisfied: requests-oauthlib>=0.5.0 in c:\\users\\neera\\downloads\\azure-digital-twins\\.venv\\lib\\site-packages (from msrest>=0.7.1->azure-mgmt-resource==22.0.0) (1.3.1)\n",
      "Requirement already satisfied: requests~=2.16 in c:\\users\\neera\\downloads\\azure-digital-twins\\.venv\\lib\\site-packages (from msrest>=0.7.1->azure-mgmt-resource==22.0.0) (2.31.0)\n",
      "Requirement already satisfied: six>=1.11.0 in c:\\users\\neera\\downloads\\azure-digital-twins\\.venv\\lib\\site-packages (from azure-core<2.0.0,>=1.24.0->azure-mgmt-core<2.0.0,>=1.3.2->azure-mgmt-resource==22.0.0) (1.16.0)\n",
      "Requirement already satisfied: typing-extensions>=4.0.1 in c:\\users\\neera\\downloads\\azure-digital-twins\\.venv\\lib\\site-packages (from azure-core<2.0.0,>=1.24.0->azure-mgmt-core<2.0.0,>=1.3.2->azure-mgmt-resource==22.0.0) (4.8.0)\n",
      "Requirement already satisfied: charset-normalizer<4,>=2 in c:\\users\\neera\\downloads\\azure-digital-twins\\.venv\\lib\\site-packages (from requests~=2.16->msrest>=0.7.1->azure-mgmt-resource==22.0.0) (3.3.2)\n",
      "Requirement already satisfied: idna<4,>=2.5 in c:\\users\\neera\\downloads\\azure-digital-twins\\.venv\\lib\\site-packages (from requests~=2.16->msrest>=0.7.1->azure-mgmt-resource==22.0.0) (3.4)\n",
      "Requirement already satisfied: urllib3<3,>=1.21.1 in c:\\users\\neera\\downloads\\azure-digital-twins\\.venv\\lib\\site-packages (from requests~=2.16->msrest>=0.7.1->azure-mgmt-resource==22.0.0) (2.0.7)\n",
      "Requirement already satisfied: oauthlib>=3.0.0 in c:\\users\\neera\\downloads\\azure-digital-twins\\.venv\\lib\\site-packages (from requests-oauthlib>=0.5.0->msrest>=0.7.1->azure-mgmt-resource==22.0.0) (3.2.2)\n",
      "Installing collected packages: azure-mgmt-resource\n",
      "Successfully installed azure-mgmt-resource-22.0.0\n"
     ]
    }
   ],
   "source": [
    "!pip install azure-common==1.1.28\n",
    "!pip install azure-core==1.26.2\n",
    "!pip install azure-digitaltwins-core==1.2.0\n",
    "!pip install azure-identity==1.12.0\n",
    "!pip install azure-mgmt-authorization==3.0.0\n",
    "!pip install azure-mgmt-core==1.3.2\n",
    "!pip install azure-mgmt-digitaltwins==6.4.0\n",
    "!pip install azure-mgmt-resource==22.0.0"
   ]
  },
  {
   "cell_type": "code",
   "execution_count": 4,
   "metadata": {},
   "outputs": [],
   "source": [
    "from azure.identity import DefaultAzureCredential\n",
    "from azure.mgmt.resource import ResourceManagementClient\n",
    "from pprint import pprint"
   ]
  },
  {
   "attachments": {},
   "cell_type": "markdown",
   "metadata": {},
   "source": [
    "### Find out your Subscription ID"
   ]
  },
  {
   "cell_type": "code",
   "execution_count": 5,
   "metadata": {},
   "outputs": [
    {
     "name": "stdout",
     "output_type": "stream",
     "text": [
      "Name                         CloudName    SubscriptionId                        TenantId                              State    IsDefault\n",
      "---------------------------  -----------  ------------------------------------  ------------------------------------  -------  -----------\n",
      "Microsoft Azure Sponsorship  AzureCloud   4a3485a2-c357-4fe7-95ba-83ee31619d8b  1f224dc4-ec04-443f-adb5-1f53f572b7ea  Enabled  True\n"
     ]
    }
   ],
   "source": [
    "!az account list -o table"
   ]
  },
  {
   "cell_type": "code",
   "execution_count": null,
   "metadata": {},
   "outputs": [],
   "source": [
    "credential = DefaultAzureCredential()\n",
    "subscription_id = \"00000000-0000-0000-0000-000000000000\" # use your own"
   ]
  },
  {
   "cell_type": "code",
   "execution_count": null,
   "metadata": {},
   "outputs": [],
   "source": [
    "resource_client = ResourceManagementClient(\n",
    "    credential, subscription_id=subscription_id)"
   ]
  },
  {
   "cell_type": "code",
   "execution_count": null,
   "metadata": {},
   "outputs": [],
   "source": [
    "resource_group_name = \"Tutorial-RG\"\n",
    "rg_result = resource_client.resource_groups.create_or_update(\n",
    "    resource_group_name, {\"location\": \"westeurope\"}\n",
    ")"
   ]
  },
  {
   "cell_type": "code",
   "execution_count": null,
   "metadata": {},
   "outputs": [],
   "source": [
    "pprint(rg_result)"
   ]
  },
  {
   "attachments": {},
   "cell_type": "markdown",
   "metadata": {},
   "source": [
    "# Instantiating a digital twin "
   ]
  },
  {
   "cell_type": "code",
   "execution_count": null,
   "metadata": {},
   "outputs": [],
   "source": [
    "from azure.mgmt.digitaltwins import AzureDigitalTwinsManagementClient"
   ]
  },
  {
   "cell_type": "code",
   "execution_count": null,
   "metadata": {},
   "outputs": [],
   "source": [
    "client = AzureDigitalTwinsManagementClient(\n",
    "    credential = DefaultAzureCredential(),\n",
    "    subscription_id = subscription_id,\n",
    ")"
   ]
  },
  {
   "cell_type": "code",
   "execution_count": null,
   "metadata": {},
   "outputs": [],
   "source": [
    "dt_resource_name = \"Tutorial-DT\"\n",
    "dt_response = client.digital_twins.begin_create_or_update(\n",
    "    resource_group_name=rg_result.name,\n",
    "    resource_name = dt_resource_name,\n",
    "    digital_twins_create={\"location\": \"westeurope\"},\n",
    ").result()\n",
    "print(dt_response)"
   ]
  },
  {
   "cell_type": "code",
   "execution_count": null,
   "metadata": {},
   "outputs": [],
   "source": [
    "print(dt_response.host_name)"
   ]
  },
  {
   "attachments": {},
   "cell_type": "markdown",
   "metadata": {},
   "source": [
    "### Adding the Azure Digital Twin Data Owner Role"
   ]
  },
  {
   "cell_type": "code",
   "execution_count": null,
   "metadata": {},
   "outputs": [],
   "source": [
    "from azure.mgmt.authorization import AuthorizationManagementClient\n",
    "import uuid"
   ]
  },
  {
   "cell_type": "code",
   "execution_count": null,
   "metadata": {},
   "outputs": [],
   "source": [
    "# resource_client = ResourceManagementClient(\n",
    "#     credential=DefaultAzureCredential(),\n",
    "#     subscription_id=subscription_id\n",
    "# )"
   ]
  },
  {
   "cell_type": "code",
   "execution_count": null,
   "metadata": {},
   "outputs": [],
   "source": [
    "# https://github.com/Azure-Samples/azure-samples-python-management/blob/main/samples/authorization/manage_role_assignment.py#L1\n",
    "authorization_client = AuthorizationManagementClient(\n",
    "    credential=DefaultAzureCredential(),\n",
    "    subscription_id=subscription_id,\n",
    "    api_version=\"2018-01-01-preview\"\n",
    ")\n",
    "\n",
    "adt_data_owner_role_id ='bcd981a7-7f74-457b-83e1-cceb9e632ffe'\n",
    "scope = f'/subscriptions/{subscription_id}/resourceGroups/{resource_group_name}'\n",
    "\n",
    "try:\n",
    "    role_assignment = authorization_client.role_assignments.create(\n",
    "        scope,\n",
    "        str(uuid.uuid4()),\n",
    "        {\n",
    "            \"role_definition_id\": \"/subscriptions/\" \n",
    "            + subscription_id \n",
    "            + \"/providers/Microsoft.Authorization/roleDefinitions/\" \n",
    "            + adt_data_owner_role_id,\n",
    "            \"principal_id\": 'use-your-principal-id', # get your principal ID from azure portal\n",
    "        }\n",
    "    )\n",
    "    print(role_assignment)\n",
    "except Exception as e:\n",
    "    print(e)\n"
   ]
  },
  {
   "cell_type": "code",
   "execution_count": null,
   "metadata": {},
   "outputs": [],
   "source": [
    "# https://learn.microsoft.com/en-us/azure/digital-twins/concepts-security#authorization-azure-roles-for-azure-digital-twins\n",
    "# https://learn.microsoft.com/en-us/azure/digital-twins/how-to-authenticate-client#assign-an-access-role\n",
    "# give yourself a Data Owner Role\n",
    "# !az dt role-assignment create --dt-name myDigitalTwinsService --assignee \"<USE YOUR PRINCIPAL ID>\" --role \"Azure Digital Twins Data Owner\" --debug"
   ]
  },
  {
   "attachments": {},
   "cell_type": "markdown",
   "metadata": {},
   "source": [
    "# Digital Twin Instantiation via Portal (old)\n",
    "\n",
    "follow Microsoft's guide to setup your Azure digital twin instance and proper authentication.\n",
    "\n",
    "https://learn.microsoft.com/en-us/azure/digital-twins/how-to-set-up-instance-portal"
   ]
  },
  {
   "attachments": {},
   "cell_type": "markdown",
   "metadata": {},
   "source": [
    "## Azure DT Service Client\n",
    "\n",
    "Lets create service client to access the SDK functions for digital twin manipulation.\n"
   ]
  },
  {
   "cell_type": "code",
   "execution_count": 8,
   "metadata": {},
   "outputs": [],
   "source": [
    "from azure.digitaltwins.core import DigitalTwinsClient"
   ]
  },
  {
   "cell_type": "code",
   "execution_count": 9,
   "metadata": {},
   "outputs": [
    {
     "name": "stdout",
     "output_type": "stream",
     "text": [
      "Service Client Created! Ready to go\n"
     ]
    }
   ],
   "source": [
    "# Replace the instance url of your digital twin here\n",
    "adtInstanceUrl = \"https://testdigitaltwin001.api.sea.digitaltwins.azure.net\"\n",
    "\n",
    "dt_client = DigitalTwinsClient(adtInstanceUrl, DefaultAzureCredential())\n",
    "print(\"Service Client Created! Ready to go\")"
   ]
  },
  {
   "cell_type": "code",
   "execution_count": null,
   "metadata": {},
   "outputs": [],
   "source": [
    "adtInstanceUrl\n"
   ]
  },
  {
   "attachments": {},
   "cell_type": "markdown",
   "metadata": {},
   "source": [
    "## Uploading a Model\n",
    "\n",
    "We need a model to base our digital off of. Below, we have a sample model as a `dict`. However, we can also load one from a json file.\n",
    "\n",
    "Microsoft provides an detailed write up about the concepts of models for digital twins.\n",
    "\n",
    "https://learn.microsoft.com/en-us/azure/digital-twins/concepts-models"
   ]
  },
  {
   "cell_type": "code",
   "execution_count": 10,
   "metadata": {},
   "outputs": [],
   "source": [
    "sample_model = {\n",
    "    \"@id\": \"dtmi:example:SampleModel;1\",\n",
    "    \"@type\": \"Interface\",\n",
    "    \"displayName\": \"SampleModel\",\n",
    "    \"contents\": [\n",
    "        {\n",
    "            \"@type\": \"Relationship\",\n",
    "            \"name\": \"contains\"\n",
    "        },\n",
    "        {\n",
    "            \"@type\": \"Property\",\n",
    "            \"name\": \"data\",\n",
    "            \"schema\": \"string\"\n",
    "        },\n",
    "        {\n",
    "            \"@type\": \"Telemetry\",\n",
    "            \"name\": \"sensor\",\n",
    "            \"schema\": \"double\"      \n",
    "        }\n",
    "    ],\n",
    "    \"@context\": \"dtmi:dtdl:context;2\"\n",
    "}"
   ]
  },
  {
   "cell_type": "code",
   "execution_count": null,
   "metadata": {},
   "outputs": [],
   "source": [
    "# if you have the model defined as a seperate json, just read it like so:\n",
    "\n",
    "# with open(\"SampleModel.json\", 'r') as f:\n",
    "#     sample_model = json.load(f)\n",
    "# pprint(sample_model)"
   ]
  },
  {
   "attachments": {},
   "cell_type": "markdown",
   "metadata": {},
   "source": [
    "It's good practice to put our call for model creation inside a try-except statement. This is because we cannot upload two models with the same id and subsequent calls with the models having the same id will throw an error."
   ]
  },
  {
   "cell_type": "code",
   "execution_count": 11,
   "metadata": {},
   "outputs": [
    {
     "name": "stdout",
     "output_type": "stream",
     "text": [
      "Model uploaded to the instance\n"
     ]
    }
   ],
   "source": [
    "try:\n",
    "    # put all the models that we want to create into a list\n",
    "    models = [sample_model]\n",
    "    dt_client.create_models(models)\n",
    "    print(\"Model uploaded to the instance\")\n",
    "except Exception as e:\n",
    "    print(e)"
   ]
  },
  {
   "attachments": {},
   "cell_type": "markdown",
   "metadata": {},
   "source": [
    "<!-- ![title](images/model_upload.png) -->\n",
    "It should show up in the model explorer as follows:\n",
    "\n",
    "<img src=\"images/model_upload.png\" width=\"800\" height=\"500\" />"
   ]
  },
  {
   "attachments": {},
   "cell_type": "markdown",
   "metadata": {},
   "source": [
    "## Retreive uploaded models\n",
    "\n",
    "Now that we have creaated our models, lets make call to retreive them."
   ]
  },
  {
   "cell_type": "code",
   "execution_count": 12,
   "metadata": {},
   "outputs": [
    {
     "name": "stdout",
     "output_type": "stream",
     "text": [
      "dtmi:example:SampleModel;1\n"
     ]
    }
   ],
   "source": [
    "# Get list of models\n",
    "models_list = dt_client.list_models()\n",
    "for m in models_list:\n",
    "    print(m.id)"
   ]
  },
  {
   "cell_type": "code",
   "execution_count": 13,
   "metadata": {},
   "outputs": [
    {
     "data": {
      "text/plain": [
       "{'display_name': {'en': 'SampleModel'},\n",
       " 'description': {},\n",
       " 'id': 'dtmi:example:SampleModel;1',\n",
       " 'upload_time': '2023-11-01T09:16:27.143028Z',\n",
       " 'decommissioned': False}"
      ]
     },
     "execution_count": 13,
     "metadata": {},
     "output_type": "execute_result"
    }
   ],
   "source": [
    "# For now, we just have a single model\n",
    "# We can also retreive a model's information as a dict\n",
    "m.as_dict()"
   ]
  },
  {
   "attachments": {},
   "cell_type": "markdown",
   "metadata": {},
   "source": [
    "## Creating a digital twin\n",
    "Now that we have uploaded a model, we can use it to create a digital twin out of it."
   ]
  },
  {
   "cell_type": "code",
   "execution_count": 14,
   "metadata": {},
   "outputs": [
    {
     "name": "stdout",
     "output_type": "stream",
     "text": [
      "DT Created\n"
     ]
    }
   ],
   "source": [
    "# unique id of the digital twin\n",
    "digital_twin_id = 'digiTwin-1'\n",
    "\n",
    "# the necessary metadata of the digital twin\n",
    "temp_twin = {\n",
    "    \"$metadata\": {\n",
    "        \"$model\": \"dtmi:example:SampleModel;1\" #give the model's id here\n",
    "    },\n",
    "    \"$dtId\": digital_twin_id,\n",
    "    \"data\": \"Hello World\"\n",
    "}\n",
    "created_twin = dt_client.upsert_digital_twin(digital_twin_id, temp_twin)\n",
    "print(\"DT Created\")"
   ]
  },
  {
   "attachments": {},
   "cell_type": "markdown",
   "metadata": {},
   "source": [
    "Lets create a few more twins. \n",
    "\n",
    "Our digital twin should show up in the model explorer as follows:\n",
    "(Click the run query button with the default \"SELECT * FROM digitaltwins\")\n",
    "\n",
    "<img src=\"images/digital_twin_1.png\" width=\"800\" height=\"500\"  />\n",
    "\n",
    "Lets create 2 more twins. Unlike uploading a model, no error is thrown if a digital twin with the same ID already exists. An attempt to create the same twin again will just replace the original twin."
   ]
  },
  {
   "cell_type": "code",
   "execution_count": 15,
   "metadata": {},
   "outputs": [
    {
     "name": "stdout",
     "output_type": "stream",
     "text": [
      "Created twin: digiTwin-1\n",
      "Created twin: digiTwin-2\n",
      "Created twin: digiTwin-3\n"
     ]
    }
   ],
   "source": [
    "# creating some twins\n",
    "prefix = \"digiTwin-\"\n",
    "for i in range(1, 4):\n",
    "    twin_id = f'{prefix}{i}'\n",
    "    temp_twin = {\n",
    "        \"$metadata\": {\n",
    "            \"$model\": \"dtmi:example:SampleModel;1\"\n",
    "        },\n",
    "        \"$dtId\": twin_id,\n",
    "        \"data\": \"Hello World\"\n",
    "    }\n",
    "    created_twin = dt_client.upsert_digital_twin(twin_id, temp_twin)\n",
    "    print(f\"Created twin: {created_twin['$dtId']}\")"
   ]
  },
  {
   "attachments": {},
   "cell_type": "markdown",
   "metadata": {},
   "source": [
    "Azure Digital Twin explorer should show the newly created twin. \n",
    "Don't forget to click the `Run Query` button for it to show up.\n",
    "\n",
    "<img src=\"images/digital_twin_2.png\" width=\"800\" height=\"500\"  />\n"
   ]
  },
  {
   "attachments": {},
   "cell_type": "markdown",
   "metadata": {},
   "source": [
    "## Relationships\n",
    "\n",
    "Next, we will create relationships among the twins that we have created so that we can connect them in a so-called `twin graph`.\n",
    "Quoting from Microsoft:\n",
    "```\n",
    "A digital twin is an instance of one of your custom-defined models. It can be connected to other digital twins via relationships to form a twin graph: this twin graph is the representation of your entire environment.\n",
    "```\n",
    "\n",
    "https://learn.microsoft.com/en-us/azure/digital-twins/concepts-twins-graph\n",
    "\n",
    "Recall that our model has the a relationship called `contains`. In the example below, we use that to create a contains relationship from `digiTwin-1` to `digiTwin-2` and `digiTwin-3`."
   ]
  },
  {
   "cell_type": "code",
   "execution_count": 16,
   "metadata": {},
   "outputs": [
    {
     "name": "stdout",
     "output_type": "stream",
     "text": [
      "Created Relationship 'contains' from digiTwin-1 to digiTwin-2\n",
      "Created Relationship 'contains' from digiTwin-1 to digiTwin-3\n"
     ]
    }
   ],
   "source": [
    "# Creating relationships\n",
    "for i in [2, 3]:\n",
    "    relationship = {\n",
    "        \"$relationshipId\": f\"contains-{i}\", # give the relationship some unique id\n",
    "        \"$sourceId\": f'{prefix}{1}', # give the id of the source twin\n",
    "        \"$relationshipName\": \"contains\", # give the relationship name as defined in the model\n",
    "        \"$targetId\": f'{prefix}{i}', # give the id of the target twin\n",
    "    }\n",
    "    # make the call to create the relationship\n",
    "    rel = dt_client.upsert_relationship(\n",
    "        relationship[\"$sourceId\"],\n",
    "        relationship[\"$relationshipId\"],\n",
    "        relationship\n",
    "    )\n",
    "    print(\n",
    "        f\"Created Relationship '{rel['$relationshipName']}' from {rel['$sourceId']} to {rel['$targetId']}\")\n"
   ]
  },
  {
   "attachments": {},
   "cell_type": "markdown",
   "metadata": {},
   "source": [
    "The Azure DT explorer should also show the relationships:\n",
    "(May need to wait a minute or two for it to show up sometimes)\n",
    "\n",
    "<img src=\"images/relationship_1.png\" width=\"800\" height=\"500\"  />\n"
   ]
  },
  {
   "attachments": {},
   "cell_type": "markdown",
   "metadata": {},
   "source": [
    "Lets list the created relationships:"
   ]
  },
  {
   "cell_type": "code",
   "execution_count": 17,
   "metadata": {},
   "outputs": [
    {
     "name": "stdout",
     "output_type": "stream",
     "text": [
      "{'$etag': 'W/\"c9c82e26-76d5-4505-a682-d580e3000993\"',\n",
      " '$relationshipId': 'contains-2',\n",
      " '$relationshipName': 'contains',\n",
      " '$sourceId': 'digiTwin-1',\n",
      " '$targetId': 'digiTwin-2'}\n",
      "{'$etag': 'W/\"acbbfb44-8ba6-415c-8d94-0dcc6b5c8487\"',\n",
      " '$relationshipId': 'contains-3',\n",
      " '$relationshipName': 'contains',\n",
      " '$sourceId': 'digiTwin-1',\n",
      " '$targetId': 'digiTwin-3'}\n"
     ]
    }
   ],
   "source": [
    "created_relationships = dt_client.list_relationships(f'{prefix}{1}')\n",
    "for r in created_relationships:\n",
    "    pprint(r)"
   ]
  },
  {
   "cell_type": "code",
   "execution_count": 18,
   "metadata": {},
   "outputs": [
    {
     "name": "stdout",
     "output_type": "stream",
     "text": [
      "(\"digiTwin-2 has incoming relationship: {'relationship_id': 'contains-2', \"\n",
      " \"'source_id': 'digiTwin-1', 'relationship_name': 'contains', \"\n",
      " \"'relationship_link': \"\n",
      " \"'https://testdigitaltwin001.api.sea.digitaltwins.azure.net/digitaltwins/digiTwin-1/relationships/contains-2?api-version=2022-05-31'}\")\n",
      "(\"digiTwin-3 has incoming relationship: {'relationship_id': 'contains-3', \"\n",
      " \"'source_id': 'digiTwin-1', 'relationship_name': 'contains', \"\n",
      " \"'relationship_link': \"\n",
      " \"'https://testdigitaltwin001.api.sea.digitaltwins.azure.net/digitaltwins/digiTwin-1/relationships/contains-3?api-version=2022-05-31'}\")\n"
     ]
    }
   ],
   "source": [
    "# The relationships can also be viewed from the target twins\n",
    "for i in range(1, 4):\n",
    "    incoming_relationships = dt_client.list_incoming_relationships(\n",
    "        f'{prefix}{i}')\n",
    "    for r in incoming_relationships:\n",
    "        pprint(f\"{prefix}{i} has incoming relationship: {r.as_dict()}\")\n"
   ]
  },
  {
   "attachments": {},
   "cell_type": "markdown",
   "metadata": {},
   "source": [
    "## Update Property"
   ]
  },
  {
   "attachments": {},
   "cell_type": "markdown",
   "metadata": {},
   "source": [
    "Recall that each twin has a property called data. So, far we have let that be just \"hello world\". We can update the property as follows:"
   ]
  },
  {
   "cell_type": "code",
   "execution_count": 19,
   "metadata": {},
   "outputs": [
    {
     "data": {
      "text/plain": [
       "{'$dtId': 'digiTwin-1',\n",
       " '$etag': 'W/\"e353c11f-328b-40b1-a130-63889ce71c50\"',\n",
       " 'data': 'New Data for digiTwin-1',\n",
       " '$metadata': {'$model': 'dtmi:example:SampleModel;1',\n",
       "  '$lastUpdateTime': '2023-11-01T09:23:43.5721322Z',\n",
       "  'data': {'lastUpdateTime': '2023-11-01T09:23:43.5721322Z'}}}"
      ]
     },
     "execution_count": 19,
     "metadata": {},
     "output_type": "execute_result"
    }
   ],
   "source": [
    "# update property of dt\n",
    "digital_twin_id = \"digiTwin-1\"\n",
    "data_update = {\n",
    "    \"$metadata\": {\n",
    "        \"$model\": \"dtmi:example:SampleModel;1\"\n",
    "    },\n",
    "    'data': f'New Data for {digital_twin_id}'\n",
    "}\n",
    "dt_client.upsert_digital_twin(digital_twin_id, data_update)"
   ]
  },
  {
   "attachments": {},
   "cell_type": "markdown",
   "metadata": {},
   "source": [
    "Notice that the data changed in the properties panel for `digiTwin-1`.\n",
    "\n",
    "<img src=\"images/data_update.png\" width=\"800\" height=\"500\"  />"
   ]
  },
  {
   "attachments": {},
   "cell_type": "markdown",
   "metadata": {},
   "source": [
    "## Publish Telemetry"
   ]
  },
  {
   "cell_type": "code",
   "execution_count": 23,
   "metadata": {},
   "outputs": [
    {
     "name": "stderr",
     "output_type": "stream",
     "text": [
      "Datetime with no tzinfo will be considered UTC.\n"
     ]
    }
   ],
   "source": [
    "# update property of dt\n",
    "digital_twin_id = \"digiTwin-1\"\n",
    "telemetry_payload = '{\"sensor\": 10.1}'\n",
    "dt_client.publish_telemetry(\n",
    "    digital_twin_id,\n",
    "    telemetry_payload\n",
    ")"
   ]
  },
  {
   "attachments": {},
   "cell_type": "markdown",
   "metadata": {},
   "source": [
    "## Queries\n",
    "\n",
    "We can retreive the twins created so far in our digital instance by running queries.\n",
    "Lets just run the `SELECT * FROM digitaltwins` query for now:\n",
    "\n",
    "https://learn.microsoft.com/en-us/azure/digital-twins/concepts-query-language"
   ]
  },
  {
   "cell_type": "code",
   "execution_count": 21,
   "metadata": {},
   "outputs": [
    {
     "name": "stdout",
     "output_type": "stream",
     "text": [
      "DigitalTwins:\n",
      "digiTwin-1\n",
      "digiTwin-2\n",
      "digiTwin-3\n"
     ]
    }
   ],
   "source": [
    "query_expression = 'SELECT * FROM digitaltwins'\n",
    "query_result = dt_client.query_twins(query_expression)\n",
    "print('DigitalTwins:')\n",
    "for twin in query_result:\n",
    "    print(twin['$dtId'])\n"
   ]
  },
  {
   "attachments": {},
   "cell_type": "markdown",
   "metadata": {},
   "source": [
    "Thats about it for this basic tutorial. Lets delete every twin next:"
   ]
  },
  {
   "cell_type": "code",
   "execution_count": 22,
   "metadata": {},
   "outputs": [
    {
     "ename": "HttpResponseError",
     "evalue": "(RelationshipsNotDeleted) Twin digiTwin-1 has active relationships. Cannot delete a twin unless all the relationships are deleted. Please ensure that the active relationships on the twin are deleted. See section on retrieving relationships https://aka.ms/adtv2twins.\nCode: RelationshipsNotDeleted\nMessage: Twin digiTwin-1 has active relationships. Cannot delete a twin unless all the relationships are deleted. Please ensure that the active relationships on the twin are deleted. See section on retrieving relationships https://aka.ms/adtv2twins.",
     "output_type": "error",
     "traceback": [
      "\u001b[1;31m---------------------------------------------------------------------------\u001b[0m",
      "\u001b[1;31mHttpResponseError\u001b[0m                         Traceback (most recent call last)",
      "\u001b[1;32mc:\\Users\\neera\\Downloads\\azure-digital-twins\\python-basics\\azure_digital_twins_tutorial.ipynb Cell 57\u001b[0m line \u001b[0;36m2\n\u001b[0;32m      <a href='vscode-notebook-cell:/c%3A/Users/neera/Downloads/azure-digital-twins/python-basics/azure_digital_twins_tutorial.ipynb#Y106sZmlsZQ%3D%3D?line=0'>1</a>\u001b[0m digital_twin_id \u001b[39m=\u001b[39m \u001b[39m'\u001b[39m\u001b[39mdigiTwin-1\u001b[39m\u001b[39m'\u001b[39m\n\u001b[1;32m----> <a href='vscode-notebook-cell:/c%3A/Users/neera/Downloads/azure-digital-twins/python-basics/azure_digital_twins_tutorial.ipynb#Y106sZmlsZQ%3D%3D?line=1'>2</a>\u001b[0m dt_client\u001b[39m.\u001b[39;49mdelete_digital_twin(digital_twin_id)  \u001b[39m# this will fail\u001b[39;00m\n",
      "File \u001b[1;32mc:\\Users\\neera\\Downloads\\azure-digital-twins\\.venv\\Lib\\site-packages\\azure\\core\\tracing\\decorator.py:78\u001b[0m, in \u001b[0;36mdistributed_trace.<locals>.decorator.<locals>.wrapper_use_tracer\u001b[1;34m(*args, **kwargs)\u001b[0m\n\u001b[0;32m     76\u001b[0m span_impl_type \u001b[39m=\u001b[39m settings\u001b[39m.\u001b[39mtracing_implementation()\n\u001b[0;32m     77\u001b[0m \u001b[39mif\u001b[39;00m span_impl_type \u001b[39mis\u001b[39;00m \u001b[39mNone\u001b[39;00m:\n\u001b[1;32m---> 78\u001b[0m     \u001b[39mreturn\u001b[39;00m func(\u001b[39m*\u001b[39;49margs, \u001b[39m*\u001b[39;49m\u001b[39m*\u001b[39;49mkwargs)\n\u001b[0;32m     80\u001b[0m \u001b[39m# Merge span is parameter is set, but only if no explicit parent are passed\u001b[39;00m\n\u001b[0;32m     81\u001b[0m \u001b[39mif\u001b[39;00m merge_span \u001b[39mand\u001b[39;00m \u001b[39mnot\u001b[39;00m passed_in_parent:\n",
      "File \u001b[1;32mc:\\Users\\neera\\Downloads\\azure-digital-twins\\.venv\\Lib\\site-packages\\azure\\digitaltwins\\core\\_digitaltwins_client.py:163\u001b[0m, in \u001b[0;36mDigitalTwinsClient.delete_digital_twin\u001b[1;34m(self, digital_twin_id, **kwargs)\u001b[0m\n\u001b[0;32m    161\u001b[0m \u001b[39mif\u001b[39;00m if_match:\n\u001b[0;32m    162\u001b[0m     options \u001b[39m=\u001b[39m DigitalTwinsDeleteOptions(if_match\u001b[39m=\u001b[39mif_match)\n\u001b[1;32m--> 163\u001b[0m \u001b[39mreturn\u001b[39;00m \u001b[39mself\u001b[39;49m\u001b[39m.\u001b[39;49m_client\u001b[39m.\u001b[39;49mdigital_twins\u001b[39m.\u001b[39;49mdelete(\n\u001b[0;32m    164\u001b[0m     digital_twin_id,\n\u001b[0;32m    165\u001b[0m     digital_twins_delete_options\u001b[39m=\u001b[39;49moptions,\n\u001b[0;32m    166\u001b[0m     error_map\u001b[39m=\u001b[39;49merror_map,\n\u001b[0;32m    167\u001b[0m     \u001b[39m*\u001b[39;49m\u001b[39m*\u001b[39;49mkwargs\n\u001b[0;32m    168\u001b[0m )\n",
      "File \u001b[1;32mc:\\Users\\neera\\Downloads\\azure-digital-twins\\.venv\\Lib\\site-packages\\azure\\core\\tracing\\decorator.py:78\u001b[0m, in \u001b[0;36mdistributed_trace.<locals>.decorator.<locals>.wrapper_use_tracer\u001b[1;34m(*args, **kwargs)\u001b[0m\n\u001b[0;32m     76\u001b[0m span_impl_type \u001b[39m=\u001b[39m settings\u001b[39m.\u001b[39mtracing_implementation()\n\u001b[0;32m     77\u001b[0m \u001b[39mif\u001b[39;00m span_impl_type \u001b[39mis\u001b[39;00m \u001b[39mNone\u001b[39;00m:\n\u001b[1;32m---> 78\u001b[0m     \u001b[39mreturn\u001b[39;00m func(\u001b[39m*\u001b[39;49margs, \u001b[39m*\u001b[39;49m\u001b[39m*\u001b[39;49mkwargs)\n\u001b[0;32m     80\u001b[0m \u001b[39m# Merge span is parameter is set, but only if no explicit parent are passed\u001b[39;00m\n\u001b[0;32m     81\u001b[0m \u001b[39mif\u001b[39;00m merge_span \u001b[39mand\u001b[39;00m \u001b[39mnot\u001b[39;00m passed_in_parent:\n",
      "File \u001b[1;32mc:\\Users\\neera\\Downloads\\azure-digital-twins\\.venv\\Lib\\site-packages\\azure\\digitaltwins\\core\\_generated\\operations\\_digital_twins_operations.py:914\u001b[0m, in \u001b[0;36mDigitalTwinsOperations.delete\u001b[1;34m(self, id, digital_twins_delete_options, **kwargs)\u001b[0m\n\u001b[0;32m    912\u001b[0m     map_error(status_code\u001b[39m=\u001b[39mresponse\u001b[39m.\u001b[39mstatus_code, response\u001b[39m=\u001b[39mresponse, error_map\u001b[39m=\u001b[39merror_map)\n\u001b[0;32m    913\u001b[0m     error \u001b[39m=\u001b[39m \u001b[39mself\u001b[39m\u001b[39m.\u001b[39m_deserialize\u001b[39m.\u001b[39mfailsafe_deserialize(_models\u001b[39m.\u001b[39mErrorResponse, pipeline_response)\n\u001b[1;32m--> 914\u001b[0m     \u001b[39mraise\u001b[39;00m HttpResponseError(response\u001b[39m=\u001b[39mresponse, model\u001b[39m=\u001b[39merror)\n\u001b[0;32m    916\u001b[0m \u001b[39mif\u001b[39;00m \u001b[39mcls\u001b[39m:\n\u001b[0;32m    917\u001b[0m     \u001b[39mreturn\u001b[39;00m \u001b[39mcls\u001b[39m(pipeline_response, \u001b[39mNone\u001b[39;00m, {})\n",
      "\u001b[1;31mHttpResponseError\u001b[0m: (RelationshipsNotDeleted) Twin digiTwin-1 has active relationships. Cannot delete a twin unless all the relationships are deleted. Please ensure that the active relationships on the twin are deleted. See section on retrieving relationships https://aka.ms/adtv2twins.\nCode: RelationshipsNotDeleted\nMessage: Twin digiTwin-1 has active relationships. Cannot delete a twin unless all the relationships are deleted. Please ensure that the active relationships on the twin are deleted. See section on retrieving relationships https://aka.ms/adtv2twins."
     ]
    }
   ],
   "source": [
    "digital_twin_id = 'digiTwin-1'\n",
    "dt_client.delete_digital_twin(digital_twin_id)  # this will fail"
   ]
  },
  {
   "attachments": {},
   "cell_type": "markdown",
   "metadata": {},
   "source": [
    "We can't just delete a twin directly that has active relationships. So we have to delete the relationships first before we can delete the twin:"
   ]
  },
  {
   "cell_type": "code",
   "execution_count": null,
   "metadata": {},
   "outputs": [],
   "source": [
    "# Delete all active relationship (needed to delete twins)\n",
    "query_expression = 'SELECT * FROM digitaltwins'\n",
    "query_result = dt_client.query_twins(query_expression)  # get all twins\n",
    "print('DigitalTwins:')\n",
    "for twin in query_result:\n",
    "    # print(twin)\n",
    "    digital_twin_id = twin['$dtId']\n",
    "    relationships = dt_client.list_relationships(digital_twin_id) # list the twins relationships\n",
    "    for relationship in relationships:\n",
    "        relationship_id = relationship['$relationshipId']\n",
    "        dt_client.delete_relationship(digital_twin_id, relationship_id) # delete the relationship\n",
    "        print(f'Deleted: {relationship} from {digital_twin_id}')"
   ]
  },
  {
   "cell_type": "code",
   "execution_count": null,
   "metadata": {},
   "outputs": [],
   "source": [
    "# Now we can delete all the twins\n",
    "query_expression = 'SELECT * FROM digitaltwins'\n",
    "query_result = dt_client.query_twins(query_expression)\n",
    "for twin in query_result:\n",
    "    digital_twin_id = twin['$dtId']\n",
    "    dt_client.delete_digital_twin(digital_twin_id)\n",
    "    print(f'Deleted twin: {digital_twin_id}')"
   ]
  },
  {
   "attachments": {},
   "cell_type": "markdown",
   "metadata": {},
   "source": [
    "Lets also delete the models:"
   ]
  },
  {
   "cell_type": "code",
   "execution_count": null,
   "metadata": {},
   "outputs": [],
   "source": [
    "for model in dt_client.list_models():\n",
    "    print(model)\n",
    "    dt_client.delete_model(model.id)\n",
    "    print(f'Deleted : {model.id}')"
   ]
  },
  {
   "cell_type": "code",
   "execution_count": null,
   "metadata": {},
   "outputs": [],
   "source": [
    "# delete resource group\n",
    "poller = resource_client.resource_groups.begin_delete(rg_result.name)\n",
    "result = poller.result()\n"
   ]
  },
  {
   "attachments": {},
   "cell_type": "markdown",
   "metadata": {},
   "source": [
    "END"
   ]
  }
 ],
 "metadata": {
  "kernelspec": {
   "display_name": "dt",
   "language": "python",
   "name": "python3"
  },
  "language_info": {
   "codemirror_mode": {
    "name": "ipython",
    "version": 3
   },
   "file_extension": ".py",
   "mimetype": "text/x-python",
   "name": "python",
   "nbconvert_exporter": "python",
   "pygments_lexer": "ipython3",
   "version": "3.12.0"
  },
  "orig_nbformat": 4,
  "vscode": {
   "interpreter": {
    "hash": "b995e32be029c0b2ad2096c425277131d57f70a3c0e891d5f8d0fe2f81c8f501"
   }
  }
 },
 "nbformat": 4,
 "nbformat_minor": 2
}
