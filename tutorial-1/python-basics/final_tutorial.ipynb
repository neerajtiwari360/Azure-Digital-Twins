{
 "cells": [
  {
   "cell_type": "markdown",
   "metadata": {},
   "source": [
    "# Tutorial 1: Azure Digital Twins"
   ]
  },
  {
   "cell_type": "code",
   "execution_count": 1,
   "metadata": {},
   "outputs": [
    {
     "name": "stdout",
     "output_type": "stream",
     "text": [
      "Collecting azure-common==1.1.28\n",
      "  Using cached azure_common-1.1.28-py2.py3-none-any.whl (14 kB)\n",
      "Installing collected packages: azure-common\n",
      "Successfully installed azure-common-1.1.28\n",
      "Collecting azure-core==1.26.2\n",
      "  Using cached azure_core-1.26.2-py3-none-any.whl (173 kB)\n",
      "Collecting requests>=2.18.4 (from azure-core==1.26.2)\n",
      "  Using cached requests-2.31.0-py3-none-any.whl.metadata (4.6 kB)\n",
      "Requirement already satisfied: six>=1.11.0 in c:\\users\\neera\\onedrive\\my_startup\\independent\\github\\azure-digital-twins\\.venv\\lib\\site-packages (from azure-core==1.26.2) (1.16.0)\n",
      "Collecting typing-extensions>=4.0.1 (from azure-core==1.26.2)\n",
      "  Using cached typing_extensions-4.8.0-py3-none-any.whl.metadata (3.0 kB)\n",
      "Collecting charset-normalizer<4,>=2 (from requests>=2.18.4->azure-core==1.26.2)\n",
      "  Using cached charset_normalizer-3.3.2-cp312-cp312-win_amd64.whl.metadata (34 kB)\n",
      "Collecting idna<4,>=2.5 (from requests>=2.18.4->azure-core==1.26.2)\n",
      "  Using cached idna-3.4-py3-none-any.whl (61 kB)\n",
      "Collecting urllib3<3,>=1.21.1 (from requests>=2.18.4->azure-core==1.26.2)\n",
      "  Using cached urllib3-2.0.7-py3-none-any.whl.metadata (6.6 kB)\n",
      "Collecting certifi>=2017.4.17 (from requests>=2.18.4->azure-core==1.26.2)\n",
      "  Using cached certifi-2023.7.22-py3-none-any.whl.metadata (2.2 kB)\n",
      "Using cached requests-2.31.0-py3-none-any.whl (62 kB)\n",
      "Using cached typing_extensions-4.8.0-py3-none-any.whl (31 kB)\n",
      "Using cached certifi-2023.7.22-py3-none-any.whl (158 kB)\n",
      "Using cached charset_normalizer-3.3.2-cp312-cp312-win_amd64.whl (100 kB)\n",
      "Using cached urllib3-2.0.7-py3-none-any.whl (124 kB)\n",
      "Installing collected packages: urllib3, typing-extensions, idna, charset-normalizer, certifi, requests, azure-core\n",
      "Successfully installed azure-core-1.26.2 certifi-2023.7.22 charset-normalizer-3.3.2 idna-3.4 requests-2.31.0 typing-extensions-4.8.0 urllib3-2.0.7\n",
      "Collecting azure-digitaltwins-core==1.2.0\n",
      "  Using cached azure_digitaltwins_core-1.2.0-py3-none-any.whl (69 kB)\n",
      "Requirement already satisfied: azure-core<2.0.0,>=1.20.0 in c:\\users\\neera\\onedrive\\my_startup\\independent\\github\\azure-digital-twins\\.venv\\lib\\site-packages (from azure-digitaltwins-core==1.2.0) (1.26.2)\n",
      "Collecting msrest>=0.6.21 (from azure-digitaltwins-core==1.2.0)\n",
      "  Using cached msrest-0.7.1-py3-none-any.whl (85 kB)\n",
      "Requirement already satisfied: requests>=2.18.4 in c:\\users\\neera\\onedrive\\my_startup\\independent\\github\\azure-digital-twins\\.venv\\lib\\site-packages (from azure-core<2.0.0,>=1.20.0->azure-digitaltwins-core==1.2.0) (2.31.0)\n",
      "Requirement already satisfied: six>=1.11.0 in c:\\users\\neera\\onedrive\\my_startup\\independent\\github\\azure-digital-twins\\.venv\\lib\\site-packages (from azure-core<2.0.0,>=1.20.0->azure-digitaltwins-core==1.2.0) (1.16.0)\n",
      "Requirement already satisfied: typing-extensions>=4.0.1 in c:\\users\\neera\\onedrive\\my_startup\\independent\\github\\azure-digital-twins\\.venv\\lib\\site-packages (from azure-core<2.0.0,>=1.20.0->azure-digitaltwins-core==1.2.0) (4.8.0)\n",
      "Requirement already satisfied: certifi>=2017.4.17 in c:\\users\\neera\\onedrive\\my_startup\\independent\\github\\azure-digital-twins\\.venv\\lib\\site-packages (from msrest>=0.6.21->azure-digitaltwins-core==1.2.0) (2023.7.22)\n",
      "Collecting isodate>=0.6.0 (from msrest>=0.6.21->azure-digitaltwins-core==1.2.0)\n",
      "  Using cached isodate-0.6.1-py2.py3-none-any.whl (41 kB)\n",
      "Collecting requests-oauthlib>=0.5.0 (from msrest>=0.6.21->azure-digitaltwins-core==1.2.0)\n",
      "  Using cached requests_oauthlib-1.3.1-py2.py3-none-any.whl (23 kB)\n",
      "Requirement already satisfied: charset-normalizer<4,>=2 in c:\\users\\neera\\onedrive\\my_startup\\independent\\github\\azure-digital-twins\\.venv\\lib\\site-packages (from requests>=2.18.4->azure-core<2.0.0,>=1.20.0->azure-digitaltwins-core==1.2.0) (3.3.2)\n",
      "Requirement already satisfied: idna<4,>=2.5 in c:\\users\\neera\\onedrive\\my_startup\\independent\\github\\azure-digital-twins\\.venv\\lib\\site-packages (from requests>=2.18.4->azure-core<2.0.0,>=1.20.0->azure-digitaltwins-core==1.2.0) (3.4)\n",
      "Requirement already satisfied: urllib3<3,>=1.21.1 in c:\\users\\neera\\onedrive\\my_startup\\independent\\github\\azure-digital-twins\\.venv\\lib\\site-packages (from requests>=2.18.4->azure-core<2.0.0,>=1.20.0->azure-digitaltwins-core==1.2.0) (2.0.7)\n",
      "Collecting oauthlib>=3.0.0 (from requests-oauthlib>=0.5.0->msrest>=0.6.21->azure-digitaltwins-core==1.2.0)\n",
      "  Using cached oauthlib-3.2.2-py3-none-any.whl (151 kB)\n",
      "Installing collected packages: oauthlib, isodate, requests-oauthlib, msrest, azure-digitaltwins-core\n",
      "Successfully installed azure-digitaltwins-core-1.2.0 isodate-0.6.1 msrest-0.7.1 oauthlib-3.2.2 requests-oauthlib-1.3.1\n",
      "Collecting azure-identity==1.12.0\n",
      "  Using cached azure_identity-1.12.0-py3-none-any.whl (135 kB)\n",
      "Requirement already satisfied: azure-core<2.0.0,>=1.11.0 in c:\\users\\neera\\onedrive\\my_startup\\independent\\github\\azure-digital-twins\\.venv\\lib\\site-packages (from azure-identity==1.12.0) (1.26.2)\n",
      "Collecting cryptography>=2.5 (from azure-identity==1.12.0)\n",
      "  Using cached cryptography-41.0.5-cp37-abi3-win_amd64.whl.metadata (5.3 kB)\n",
      "Collecting msal<2.0.0,>=1.12.0 (from azure-identity==1.12.0)\n",
      "  Using cached msal-1.24.1-py2.py3-none-any.whl.metadata (11 kB)\n",
      "Collecting msal-extensions<2.0.0,>=0.3.0 (from azure-identity==1.12.0)\n",
      "  Using cached msal_extensions-1.0.0-py2.py3-none-any.whl (19 kB)\n",
      "Requirement already satisfied: six>=1.12.0 in c:\\users\\neera\\onedrive\\my_startup\\independent\\github\\azure-digital-twins\\.venv\\lib\\site-packages (from azure-identity==1.12.0) (1.16.0)\n",
      "Requirement already satisfied: requests>=2.18.4 in c:\\users\\neera\\onedrive\\my_startup\\independent\\github\\azure-digital-twins\\.venv\\lib\\site-packages (from azure-core<2.0.0,>=1.11.0->azure-identity==1.12.0) (2.31.0)\n",
      "Requirement already satisfied: typing-extensions>=4.0.1 in c:\\users\\neera\\onedrive\\my_startup\\independent\\github\\azure-digital-twins\\.venv\\lib\\site-packages (from azure-core<2.0.0,>=1.11.0->azure-identity==1.12.0) (4.8.0)\n",
      "Collecting cffi>=1.12 (from cryptography>=2.5->azure-identity==1.12.0)\n",
      "  Using cached cffi-1.16.0-cp312-cp312-win_amd64.whl.metadata (1.5 kB)\n",
      "Collecting PyJWT<3,>=1.0.0 (from PyJWT[crypto]<3,>=1.0.0->msal<2.0.0,>=1.12.0->azure-identity==1.12.0)\n",
      "  Using cached PyJWT-2.8.0-py3-none-any.whl.metadata (4.2 kB)\n",
      "Collecting portalocker<3,>=1.6 (from msal-extensions<2.0.0,>=0.3.0->azure-identity==1.12.0)\n",
      "  Using cached portalocker-2.8.2-py3-none-any.whl.metadata (8.5 kB)\n",
      "Collecting pycparser (from cffi>=1.12->cryptography>=2.5->azure-identity==1.12.0)\n",
      "  Using cached pycparser-2.21-py2.py3-none-any.whl (118 kB)\n",
      "Requirement already satisfied: pywin32>=226 in c:\\users\\neera\\onedrive\\my_startup\\independent\\github\\azure-digital-twins\\.venv\\lib\\site-packages (from portalocker<3,>=1.6->msal-extensions<2.0.0,>=0.3.0->azure-identity==1.12.0) (306)\n",
      "Requirement already satisfied: charset-normalizer<4,>=2 in c:\\users\\neera\\onedrive\\my_startup\\independent\\github\\azure-digital-twins\\.venv\\lib\\site-packages (from requests>=2.18.4->azure-core<2.0.0,>=1.11.0->azure-identity==1.12.0) (3.3.2)\n",
      "Requirement already satisfied: idna<4,>=2.5 in c:\\users\\neera\\onedrive\\my_startup\\independent\\github\\azure-digital-twins\\.venv\\lib\\site-packages (from requests>=2.18.4->azure-core<2.0.0,>=1.11.0->azure-identity==1.12.0) (3.4)\n",
      "Requirement already satisfied: urllib3<3,>=1.21.1 in c:\\users\\neera\\onedrive\\my_startup\\independent\\github\\azure-digital-twins\\.venv\\lib\\site-packages (from requests>=2.18.4->azure-core<2.0.0,>=1.11.0->azure-identity==1.12.0) (2.0.7)\n",
      "Requirement already satisfied: certifi>=2017.4.17 in c:\\users\\neera\\onedrive\\my_startup\\independent\\github\\azure-digital-twins\\.venv\\lib\\site-packages (from requests>=2.18.4->azure-core<2.0.0,>=1.11.0->azure-identity==1.12.0) (2023.7.22)\n",
      "Using cached cryptography-41.0.5-cp37-abi3-win_amd64.whl (2.7 MB)\n",
      "Using cached msal-1.24.1-py2.py3-none-any.whl (95 kB)\n",
      "Using cached cffi-1.16.0-cp312-cp312-win_amd64.whl (181 kB)\n",
      "Using cached portalocker-2.8.2-py3-none-any.whl (17 kB)\n",
      "Using cached PyJWT-2.8.0-py3-none-any.whl (22 kB)\n",
      "Installing collected packages: PyJWT, pycparser, portalocker, cffi, cryptography, msal, msal-extensions, azure-identity\n",
      "Successfully installed PyJWT-2.8.0 azure-identity-1.12.0 cffi-1.16.0 cryptography-41.0.5 msal-1.24.1 msal-extensions-1.0.0 portalocker-2.8.2 pycparser-2.21\n",
      "Collecting azure-mgmt-authorization==3.0.0\n",
      "  Using cached azure_mgmt_authorization-3.0.0-py3-none-any.whl (965 kB)\n",
      "Requirement already satisfied: msrest>=0.7.1 in c:\\users\\neera\\onedrive\\my_startup\\independent\\github\\azure-digital-twins\\.venv\\lib\\site-packages (from azure-mgmt-authorization==3.0.0) (0.7.1)\n",
      "Requirement already satisfied: azure-common~=1.1 in c:\\users\\neera\\onedrive\\my_startup\\independent\\github\\azure-digital-twins\\.venv\\lib\\site-packages (from azure-mgmt-authorization==3.0.0) (1.1.28)\n",
      "Collecting azure-mgmt-core<2.0.0,>=1.3.2 (from azure-mgmt-authorization==3.0.0)\n",
      "  Using cached azure_mgmt_core-1.4.0-py3-none-any.whl (27 kB)\n",
      "Requirement already satisfied: azure-core<2.0.0,>=1.26.2 in c:\\users\\neera\\onedrive\\my_startup\\independent\\github\\azure-digital-twins\\.venv\\lib\\site-packages (from azure-mgmt-core<2.0.0,>=1.3.2->azure-mgmt-authorization==3.0.0) (1.26.2)\n",
      "Requirement already satisfied: certifi>=2017.4.17 in c:\\users\\neera\\onedrive\\my_startup\\independent\\github\\azure-digital-twins\\.venv\\lib\\site-packages (from msrest>=0.7.1->azure-mgmt-authorization==3.0.0) (2023.7.22)\n",
      "Requirement already satisfied: isodate>=0.6.0 in c:\\users\\neera\\onedrive\\my_startup\\independent\\github\\azure-digital-twins\\.venv\\lib\\site-packages (from msrest>=0.7.1->azure-mgmt-authorization==3.0.0) (0.6.1)\n",
      "Requirement already satisfied: requests-oauthlib>=0.5.0 in c:\\users\\neera\\onedrive\\my_startup\\independent\\github\\azure-digital-twins\\.venv\\lib\\site-packages (from msrest>=0.7.1->azure-mgmt-authorization==3.0.0) (1.3.1)\n",
      "Requirement already satisfied: requests~=2.16 in c:\\users\\neera\\onedrive\\my_startup\\independent\\github\\azure-digital-twins\\.venv\\lib\\site-packages (from msrest>=0.7.1->azure-mgmt-authorization==3.0.0) (2.31.0)\n",
      "Requirement already satisfied: six>=1.11.0 in c:\\users\\neera\\onedrive\\my_startup\\independent\\github\\azure-digital-twins\\.venv\\lib\\site-packages (from azure-core<2.0.0,>=1.26.2->azure-mgmt-core<2.0.0,>=1.3.2->azure-mgmt-authorization==3.0.0) (1.16.0)\n",
      "Requirement already satisfied: typing-extensions>=4.0.1 in c:\\users\\neera\\onedrive\\my_startup\\independent\\github\\azure-digital-twins\\.venv\\lib\\site-packages (from azure-core<2.0.0,>=1.26.2->azure-mgmt-core<2.0.0,>=1.3.2->azure-mgmt-authorization==3.0.0) (4.8.0)\n",
      "Requirement already satisfied: charset-normalizer<4,>=2 in c:\\users\\neera\\onedrive\\my_startup\\independent\\github\\azure-digital-twins\\.venv\\lib\\site-packages (from requests~=2.16->msrest>=0.7.1->azure-mgmt-authorization==3.0.0) (3.3.2)\n",
      "Requirement already satisfied: idna<4,>=2.5 in c:\\users\\neera\\onedrive\\my_startup\\independent\\github\\azure-digital-twins\\.venv\\lib\\site-packages (from requests~=2.16->msrest>=0.7.1->azure-mgmt-authorization==3.0.0) (3.4)\n",
      "Requirement already satisfied: urllib3<3,>=1.21.1 in c:\\users\\neera\\onedrive\\my_startup\\independent\\github\\azure-digital-twins\\.venv\\lib\\site-packages (from requests~=2.16->msrest>=0.7.1->azure-mgmt-authorization==3.0.0) (2.0.7)\n",
      "Requirement already satisfied: oauthlib>=3.0.0 in c:\\users\\neera\\onedrive\\my_startup\\independent\\github\\azure-digital-twins\\.venv\\lib\\site-packages (from requests-oauthlib>=0.5.0->msrest>=0.7.1->azure-mgmt-authorization==3.0.0) (3.2.2)\n",
      "Installing collected packages: azure-mgmt-core, azure-mgmt-authorization\n",
      "Successfully installed azure-mgmt-authorization-3.0.0 azure-mgmt-core-1.4.0\n",
      "Collecting azure-mgmt-core==1.3.2\n",
      "  Using cached azure_mgmt_core-1.3.2-py3-none-any.whl (26 kB)\n",
      "Requirement already satisfied: azure-core<2.0.0,>=1.24.0 in c:\\users\\neera\\onedrive\\my_startup\\independent\\github\\azure-digital-twins\\.venv\\lib\\site-packages (from azure-mgmt-core==1.3.2) (1.26.2)\n",
      "Requirement already satisfied: requests>=2.18.4 in c:\\users\\neera\\onedrive\\my_startup\\independent\\github\\azure-digital-twins\\.venv\\lib\\site-packages (from azure-core<2.0.0,>=1.24.0->azure-mgmt-core==1.3.2) (2.31.0)\n",
      "Requirement already satisfied: six>=1.11.0 in c:\\users\\neera\\onedrive\\my_startup\\independent\\github\\azure-digital-twins\\.venv\\lib\\site-packages (from azure-core<2.0.0,>=1.24.0->azure-mgmt-core==1.3.2) (1.16.0)\n",
      "Requirement already satisfied: typing-extensions>=4.0.1 in c:\\users\\neera\\onedrive\\my_startup\\independent\\github\\azure-digital-twins\\.venv\\lib\\site-packages (from azure-core<2.0.0,>=1.24.0->azure-mgmt-core==1.3.2) (4.8.0)\n",
      "Requirement already satisfied: charset-normalizer<4,>=2 in c:\\users\\neera\\onedrive\\my_startup\\independent\\github\\azure-digital-twins\\.venv\\lib\\site-packages (from requests>=2.18.4->azure-core<2.0.0,>=1.24.0->azure-mgmt-core==1.3.2) (3.3.2)\n",
      "Requirement already satisfied: idna<4,>=2.5 in c:\\users\\neera\\onedrive\\my_startup\\independent\\github\\azure-digital-twins\\.venv\\lib\\site-packages (from requests>=2.18.4->azure-core<2.0.0,>=1.24.0->azure-mgmt-core==1.3.2) (3.4)\n",
      "Requirement already satisfied: urllib3<3,>=1.21.1 in c:\\users\\neera\\onedrive\\my_startup\\independent\\github\\azure-digital-twins\\.venv\\lib\\site-packages (from requests>=2.18.4->azure-core<2.0.0,>=1.24.0->azure-mgmt-core==1.3.2) (2.0.7)\n",
      "Requirement already satisfied: certifi>=2017.4.17 in c:\\users\\neera\\onedrive\\my_startup\\independent\\github\\azure-digital-twins\\.venv\\lib\\site-packages (from requests>=2.18.4->azure-core<2.0.0,>=1.24.0->azure-mgmt-core==1.3.2) (2023.7.22)\n",
      "Installing collected packages: azure-mgmt-core\n",
      "  Attempting uninstall: azure-mgmt-core\n",
      "    Found existing installation: azure-mgmt-core 1.4.0\n",
      "    Uninstalling azure-mgmt-core-1.4.0:\n",
      "      Successfully uninstalled azure-mgmt-core-1.4.0\n",
      "Successfully installed azure-mgmt-core-1.3.2\n",
      "Collecting azure-mgmt-digitaltwins==6.4.0\n",
      "  Using cached azure_mgmt_digitaltwins-6.4.0-py3-none-any.whl (451 kB)\n",
      "Requirement already satisfied: msrest>=0.7.1 in c:\\users\\neera\\onedrive\\my_startup\\independent\\github\\azure-digital-twins\\.venv\\lib\\site-packages (from azure-mgmt-digitaltwins==6.4.0) (0.7.1)\n",
      "Requirement already satisfied: azure-common~=1.1 in c:\\users\\neera\\onedrive\\my_startup\\independent\\github\\azure-digital-twins\\.venv\\lib\\site-packages (from azure-mgmt-digitaltwins==6.4.0) (1.1.28)\n",
      "Requirement already satisfied: azure-mgmt-core<2.0.0,>=1.3.2 in c:\\users\\neera\\onedrive\\my_startup\\independent\\github\\azure-digital-twins\\.venv\\lib\\site-packages (from azure-mgmt-digitaltwins==6.4.0) (1.3.2)\n",
      "Requirement already satisfied: azure-core<2.0.0,>=1.24.0 in c:\\users\\neera\\onedrive\\my_startup\\independent\\github\\azure-digital-twins\\.venv\\lib\\site-packages (from azure-mgmt-core<2.0.0,>=1.3.2->azure-mgmt-digitaltwins==6.4.0) (1.26.2)\n",
      "Requirement already satisfied: certifi>=2017.4.17 in c:\\users\\neera\\onedrive\\my_startup\\independent\\github\\azure-digital-twins\\.venv\\lib\\site-packages (from msrest>=0.7.1->azure-mgmt-digitaltwins==6.4.0) (2023.7.22)\n",
      "Requirement already satisfied: isodate>=0.6.0 in c:\\users\\neera\\onedrive\\my_startup\\independent\\github\\azure-digital-twins\\.venv\\lib\\site-packages (from msrest>=0.7.1->azure-mgmt-digitaltwins==6.4.0) (0.6.1)\n",
      "Requirement already satisfied: requests-oauthlib>=0.5.0 in c:\\users\\neera\\onedrive\\my_startup\\independent\\github\\azure-digital-twins\\.venv\\lib\\site-packages (from msrest>=0.7.1->azure-mgmt-digitaltwins==6.4.0) (1.3.1)\n",
      "Requirement already satisfied: requests~=2.16 in c:\\users\\neera\\onedrive\\my_startup\\independent\\github\\azure-digital-twins\\.venv\\lib\\site-packages (from msrest>=0.7.1->azure-mgmt-digitaltwins==6.4.0) (2.31.0)\n",
      "Requirement already satisfied: six>=1.11.0 in c:\\users\\neera\\onedrive\\my_startup\\independent\\github\\azure-digital-twins\\.venv\\lib\\site-packages (from azure-core<2.0.0,>=1.24.0->azure-mgmt-core<2.0.0,>=1.3.2->azure-mgmt-digitaltwins==6.4.0) (1.16.0)\n",
      "Requirement already satisfied: typing-extensions>=4.0.1 in c:\\users\\neera\\onedrive\\my_startup\\independent\\github\\azure-digital-twins\\.venv\\lib\\site-packages (from azure-core<2.0.0,>=1.24.0->azure-mgmt-core<2.0.0,>=1.3.2->azure-mgmt-digitaltwins==6.4.0) (4.8.0)\n",
      "Requirement already satisfied: charset-normalizer<4,>=2 in c:\\users\\neera\\onedrive\\my_startup\\independent\\github\\azure-digital-twins\\.venv\\lib\\site-packages (from requests~=2.16->msrest>=0.7.1->azure-mgmt-digitaltwins==6.4.0) (3.3.2)\n",
      "Requirement already satisfied: idna<4,>=2.5 in c:\\users\\neera\\onedrive\\my_startup\\independent\\github\\azure-digital-twins\\.venv\\lib\\site-packages (from requests~=2.16->msrest>=0.7.1->azure-mgmt-digitaltwins==6.4.0) (3.4)\n",
      "Requirement already satisfied: urllib3<3,>=1.21.1 in c:\\users\\neera\\onedrive\\my_startup\\independent\\github\\azure-digital-twins\\.venv\\lib\\site-packages (from requests~=2.16->msrest>=0.7.1->azure-mgmt-digitaltwins==6.4.0) (2.0.7)\n",
      "Requirement already satisfied: oauthlib>=3.0.0 in c:\\users\\neera\\onedrive\\my_startup\\independent\\github\\azure-digital-twins\\.venv\\lib\\site-packages (from requests-oauthlib>=0.5.0->msrest>=0.7.1->azure-mgmt-digitaltwins==6.4.0) (3.2.2)\n",
      "Installing collected packages: azure-mgmt-digitaltwins\n",
      "Successfully installed azure-mgmt-digitaltwins-6.4.0\n",
      "Collecting azure-mgmt-resource==22.0.0\n",
      "  Using cached azure_mgmt_resource-22.0.0-py3-none-any.whl (2.4 MB)\n",
      "Requirement already satisfied: msrest>=0.7.1 in c:\\users\\neera\\onedrive\\my_startup\\independent\\github\\azure-digital-twins\\.venv\\lib\\site-packages (from azure-mgmt-resource==22.0.0) (0.7.1)\n",
      "Requirement already satisfied: azure-common~=1.1 in c:\\users\\neera\\onedrive\\my_startup\\independent\\github\\azure-digital-twins\\.venv\\lib\\site-packages (from azure-mgmt-resource==22.0.0) (1.1.28)\n",
      "Requirement already satisfied: azure-mgmt-core<2.0.0,>=1.3.2 in c:\\users\\neera\\onedrive\\my_startup\\independent\\github\\azure-digital-twins\\.venv\\lib\\site-packages (from azure-mgmt-resource==22.0.0) (1.3.2)\n",
      "Requirement already satisfied: azure-core<2.0.0,>=1.24.0 in c:\\users\\neera\\onedrive\\my_startup\\independent\\github\\azure-digital-twins\\.venv\\lib\\site-packages (from azure-mgmt-core<2.0.0,>=1.3.2->azure-mgmt-resource==22.0.0) (1.26.2)\n",
      "Requirement already satisfied: certifi>=2017.4.17 in c:\\users\\neera\\onedrive\\my_startup\\independent\\github\\azure-digital-twins\\.venv\\lib\\site-packages (from msrest>=0.7.1->azure-mgmt-resource==22.0.0) (2023.7.22)\n",
      "Requirement already satisfied: isodate>=0.6.0 in c:\\users\\neera\\onedrive\\my_startup\\independent\\github\\azure-digital-twins\\.venv\\lib\\site-packages (from msrest>=0.7.1->azure-mgmt-resource==22.0.0) (0.6.1)\n",
      "Requirement already satisfied: requests-oauthlib>=0.5.0 in c:\\users\\neera\\onedrive\\my_startup\\independent\\github\\azure-digital-twins\\.venv\\lib\\site-packages (from msrest>=0.7.1->azure-mgmt-resource==22.0.0) (1.3.1)\n",
      "Requirement already satisfied: requests~=2.16 in c:\\users\\neera\\onedrive\\my_startup\\independent\\github\\azure-digital-twins\\.venv\\lib\\site-packages (from msrest>=0.7.1->azure-mgmt-resource==22.0.0) (2.31.0)\n",
      "Requirement already satisfied: six>=1.11.0 in c:\\users\\neera\\onedrive\\my_startup\\independent\\github\\azure-digital-twins\\.venv\\lib\\site-packages (from azure-core<2.0.0,>=1.24.0->azure-mgmt-core<2.0.0,>=1.3.2->azure-mgmt-resource==22.0.0) (1.16.0)\n",
      "Requirement already satisfied: typing-extensions>=4.0.1 in c:\\users\\neera\\onedrive\\my_startup\\independent\\github\\azure-digital-twins\\.venv\\lib\\site-packages (from azure-core<2.0.0,>=1.24.0->azure-mgmt-core<2.0.0,>=1.3.2->azure-mgmt-resource==22.0.0) (4.8.0)\n",
      "Requirement already satisfied: charset-normalizer<4,>=2 in c:\\users\\neera\\onedrive\\my_startup\\independent\\github\\azure-digital-twins\\.venv\\lib\\site-packages (from requests~=2.16->msrest>=0.7.1->azure-mgmt-resource==22.0.0) (3.3.2)\n",
      "Requirement already satisfied: idna<4,>=2.5 in c:\\users\\neera\\onedrive\\my_startup\\independent\\github\\azure-digital-twins\\.venv\\lib\\site-packages (from requests~=2.16->msrest>=0.7.1->azure-mgmt-resource==22.0.0) (3.4)\n",
      "Requirement already satisfied: urllib3<3,>=1.21.1 in c:\\users\\neera\\onedrive\\my_startup\\independent\\github\\azure-digital-twins\\.venv\\lib\\site-packages (from requests~=2.16->msrest>=0.7.1->azure-mgmt-resource==22.0.0) (2.0.7)\n",
      "Requirement already satisfied: oauthlib>=3.0.0 in c:\\users\\neera\\onedrive\\my_startup\\independent\\github\\azure-digital-twins\\.venv\\lib\\site-packages (from requests-oauthlib>=0.5.0->msrest>=0.7.1->azure-mgmt-resource==22.0.0) (3.2.2)\n",
      "Installing collected packages: azure-mgmt-resource\n",
      "Successfully installed azure-mgmt-resource-22.0.0\n"
     ]
    }
   ],
   "source": [
    "!pip install azure-common==1.1.28\n",
    "!pip install azure-core==1.26.2\n",
    "!pip install azure-digitaltwins-core==1.2.0\n",
    "!pip install azure-identity==1.12.0\n",
    "!pip install azure-mgmt-authorization==3.0.0\n",
    "!pip install azure-mgmt-core==1.3.2\n",
    "!pip install azure-mgmt-digitaltwins==6.4.0\n",
    "!pip install azure-mgmt-resource==22.0.0"
   ]
  },
  {
   "cell_type": "markdown",
   "metadata": {},
   "source": [
    "## Create Azure Digital Twins Model\n",
    "- Open Azure Portal\n",
    "- Navigate to the Azure Digital Twins resource\n",
    "- Click on the Create Model button\n",
    "\n",
    "<!-- ![title](images/Azure-digital-twins-setup.PNG) -->\n",
    "It should show up in the model explorer as follows:\n",
    "\n",
    "<img src=\"images/Azure-digital-twins-setup.PNG\" width=\"800\" height=\"500\" />"
   ]
  },
  {
   "cell_type": "markdown",
   "metadata": {},
   "source": [
    "from azure.identity import DefaultAzureCredential\n",
    "from azure.mgmt.resource import ResourceManagementClient\n",
    "from azure.digitaltwins.core import DigitalTwinsClient"
   ]
  },
  {
   "cell_type": "markdown",
   "metadata": {},
   "source": [
    "#### Azure DT Service Client\n",
    "\n",
    "- Lets create service client to access the SDK functions for digital twin manipulation."
   ]
  },
  {
   "cell_type": "code",
   "execution_count": 6,
   "metadata": {},
   "outputs": [],
   "source": [
    "from azure.digitaltwins.core import DigitalTwinsClient\n",
    "from azure.identity import DefaultAzureCredential"
   ]
  },
  {
   "cell_type": "code",
   "execution_count": 7,
   "metadata": {},
   "outputs": [
    {
     "name": "stdout",
     "output_type": "stream",
     "text": [
      "Service Client Created! Ready to go\n"
     ]
    }
   ],
   "source": [
    "# Replace the instance url of your digital twin here\n",
    "adtInstanceUrl = \"https://testdigitaltwin001.api.sea.digitaltwins.azure.net\"\n",
    "\n",
    "dt_client = DigitalTwinsClient(adtInstanceUrl, DefaultAzureCredential())\n",
    "print(\"Service Client Created! Ready to go\")"
   ]
  },
  {
   "cell_type": "markdown",
   "metadata": {},
   "source": [
    "#### Uploading a Model\n",
    "\n",
    "- We need a model to base our digital off of. Below, we have a sample model as a `dict`. However, we can also load one from a json file.\n",
    "\n",
    "- Microsoft provides an detailed write up about the concepts of models for digital twins.\n",
    "\n",
    "- https://learn.microsoft.com/en-us/azure/digital-twins/concepts-models"
   ]
  },
  {
   "cell_type": "code",
   "execution_count": 8,
   "metadata": {},
   "outputs": [],
   "source": [
    "sample_model = {\n",
    "    \"@id\": \"dtmi:example:SampleModel;1\",\n",
    "    \"@type\": \"Interface\",\n",
    "    \"displayName\": \"SampleModel\",\n",
    "    \"contents\": [\n",
    "        {\n",
    "            \"@type\": \"Relationship\",\n",
    "            \"name\": \"contains\"\n",
    "        },\n",
    "        {\n",
    "            \"@type\": \"Property\",\n",
    "            \"name\": \"data\",\n",
    "            \"schema\": \"string\"\n",
    "        },\n",
    "        {\n",
    "            \"@type\": \"Telemetry\",\n",
    "            \"name\": \"sensor\",\n",
    "            \"schema\": \"double\"      \n",
    "        }\n",
    "    ],\n",
    "    \"@context\": \"dtmi:dtdl:context;2\"\n",
    "}"
   ]
  },
  {
   "cell_type": "markdown",
   "metadata": {},
   "source": [
    "- It's good practice to put our call for model creation inside a try-except statement. This is because we cannot upload two models with the same id and subsequent calls with the models having the same id will throw an error."
   ]
  },
  {
   "cell_type": "code",
   "execution_count": 9,
   "metadata": {},
   "outputs": [
    {
     "name": "stdout",
     "output_type": "stream",
     "text": [
      "Model uploaded to the instance\n"
     ]
    }
   ],
   "source": [
    "try:\n",
    "    # put all the models that we want to create into a list\n",
    "    models = [sample_model]\n",
    "    dt_client.create_models(models)\n",
    "    print(\"Model uploaded to the instance\")\n",
    "except Exception as e:\n",
    "    print(e)"
   ]
  },
  {
   "cell_type": "markdown",
   "metadata": {},
   "source": [
    "<!-- ![title](images/model_upload.png) -->\n",
    "It should show up in the model explorer as follows:\n",
    "\n",
    "<img src=\"images/model_upload.png\" width=\"800\" height=\"500\" />"
   ]
  },
  {
   "cell_type": "markdown",
   "metadata": {},
   "source": [
    "#### Creating a digital twin\n",
    "- Now that we have uploaded a model, we can use it to create a digital twin out of it."
   ]
  },
  {
   "cell_type": "code",
   "execution_count": 14,
   "metadata": {},
   "outputs": [
    {
     "name": "stdout",
     "output_type": "stream",
     "text": [
      "DT Created\n"
     ]
    }
   ],
   "source": [
    "# unique id of the digital twin\n",
    "digital_twin_id = 'digiTwin-1'\n",
    "\n",
    "# the necessary metadata of the digital twin\n",
    "temp_twin = {\n",
    "    \"$metadata\": {\n",
    "        \"$model\": \"dtmi:example:SampleModel;1\" #give the model's id here\n",
    "    },\n",
    "    \"$dtId\": digital_twin_id,\n",
    "    \"data\": \"Hello World\"\n",
    "}\n",
    "created_twin = dt_client.upsert_digital_twin(digital_twin_id, temp_twin)\n",
    "print(\"DT Created\")"
   ]
  },
  {
   "cell_type": "markdown",
   "metadata": {},
   "source": [
    "#### Publish Telemetry"
   ]
  },
  {
   "cell_type": "code",
   "execution_count": 15,
   "metadata": {},
   "outputs": [
    {
     "name": "stderr",
     "output_type": "stream",
     "text": [
      "Datetime with no tzinfo will be considered UTC.\n"
     ]
    }
   ],
   "source": [
    "# update property of dt\n",
    "digital_twin_id = \"digiTwin-1\"\n",
    "telemetry_payload = '{\"sensor\": 10.1}'\n",
    "\n",
    "# Create the telemetry message\n",
    "telemetry_message = {\n",
    "    \"data\": telemetry_payload\n",
    "}\n",
    "\n",
    "dt_client.publish_telemetry(digital_twin_id,telemetry_payload)"
   ]
  },
  {
   "cell_type": "code",
   "execution_count": null,
   "metadata": {},
   "outputs": [],
   "source": []
  }
 ],
 "metadata": {
  "kernelspec": {
   "display_name": ".venv",
   "language": "python",
   "name": "python3"
  },
  "language_info": {
   "codemirror_mode": {
    "name": "ipython",
    "version": 3
   },
   "file_extension": ".py",
   "mimetype": "text/x-python",
   "name": "python",
   "nbconvert_exporter": "python",
   "pygments_lexer": "ipython3",
   "version": "3.12.0"
  }
 },
 "nbformat": 4,
 "nbformat_minor": 2
}
